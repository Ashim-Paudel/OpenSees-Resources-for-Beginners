{
 "cells": [
  {
   "cell_type": "markdown",
   "id": "e028eeb8-2271-4fb4-8aa1-e7885b229cfa",
   "metadata": {},
   "source": [
    "Original opensees documentation link: https://opensees.berkeley.edu/wiki/index.php/Moment_Curvature_Example\n",
    "\n",
    "moment-curvature analysis of a rectangular reinforced concrete section. In this example a Zero Length element with the fiber discretization of the cross section is used. \n",
    "<img src=\"https://opensees.berkeley.edu/wiki/images/5/5f/MomentCurvature.png\"></img>\n"
   ]
  },
  {
   "cell_type": "markdown",
   "id": "d46b1fda-7616-4fee-9627-2c7f0c50c58c",
   "metadata": {},
   "source": [
    "**Video regarding moment-curvature curve**: https://www.youtube.com/watch?v=FMXGwRN50dw"
   ]
  },
  {
   "cell_type": "code",
   "execution_count": 32,
   "id": "d95698ee-9cbc-4cc1-ad80-be8ec4972702",
   "metadata": {},
   "outputs": [],
   "source": [
    "import openseespy.opensees as ops\n",
    "import opsvis as ovs\n",
    "import numpy as np\n",
    "import matplotlib.pyplot as plt\n"
   ]
  },
  {
   "cell_type": "markdown",
   "id": "ff8a3427-cb93-4a63-8e2f-c8403e2574cd",
   "metadata": {},
   "source": [
    "## Section Definition\n",
    "\n",
    "<img src=\"https://opensees.berkeley.edu/wiki/images/6/63/MomentCurvatureSection.png\" align=\"left\"></img>\n",
    "<img src=\"https://opensees.berkeley.edu/wiki/images/0/08/MomentCurvatureSectionDiscritization.png\" align=\"right\"></img>\n"
   ]
  },
  {
   "cell_type": "markdown",
   "id": "01d5e311-a7c6-43a9-a1bf-eeef2de5fbf7",
   "metadata": {},
   "source": [
    "## section variables"
   ]
  },
  {
   "cell_type": "code",
   "execution_count": 33,
   "id": "ef1b26cc-deea-4923-8875-5322c56e182e",
   "metadata": {},
   "outputs": [],
   "source": [
    "#section parameters\n",
    "d = 24 #inch\n",
    "w = 15\n",
    "cov = 1.5 #cover of unconfined concrete in inches\n",
    "As  =  0.60    # area of no. 7 bars\n",
    "\n",
    "\n",
    "concrete_coors_ext = [-d/2, w/2, -d/2, -w/2, d/2, -w/2,  d/2, w/2]\n",
    "\n",
    "rebars_z = np.array([w/2-cov, 0., -w/2+cov])\n",
    "rebars_y = np.array([d/2-cov, 0., -d/2+cov])\n",
    "\n",
    "rebars_coors = []\n",
    "for i,z in enumerate(rebars_z):\n",
    "    for j,y in enumerate(rebars_y):\n",
    "        if (z,y)!=(0,0):\n",
    "            rebars_coors.append((z,y))\n"
   ]
  },
  {
   "cell_type": "markdown",
   "id": "a3305ec1-59e4-4945-9dc6-f0c42ce09f01",
   "metadata": {},
   "source": [
    "## Material properties"
   ]
  },
  {
   "cell_type": "code",
   "execution_count": 34,
   "id": "166b7028-aaff-4ba6-a48f-325edecf470b",
   "metadata": {},
   "outputs": [],
   "source": [
    "#material properties\n",
    "#concrete\n",
    "    #core concrete confined\n",
    "core_conc = 1 #tag\n",
    "fc_c = -6.0\n",
    "ec0_c = -0.004\n",
    "fcu_c = -5.0\n",
    "ecu_c = -0.014\n",
    "\n",
    "    #cover concrete unconfined\n",
    "cover_conc = 2 #tag\n",
    "fc_u = -5.0\n",
    "ec0_u = -0.002\n",
    "fcu_u = -0.0\n",
    "ecu_u = -0.006\n",
    "\n",
    "# STEEL\n",
    "# Reinforcing steel \n",
    "steel = 3 #tag\n",
    "fy =  60.0   # Yield stress\n",
    "E =  30000.0  # Young's modulus\n",
    "b = 0.01"
   ]
  },
  {
   "cell_type": "code",
   "execution_count": 35,
   "id": "86194132-8766-4829-bb84-820718b4394b",
   "metadata": {},
   "outputs": [],
   "source": [
    "def getSection(plotFiberSection = True):\n",
    "    ops.wipe()\n",
    "    ops.model(\"BasicBuilder\", '-ndm', 2, '-ndf', 3)\n",
    "                                        #tag   f'c        ec0   f'cu   ecu\n",
    "    ops.uniaxialMaterial('Concrete01', core_conc, fc_c, ec0_c, fcu_c, ecu_c)\n",
    "    ops.uniaxialMaterial('Concrete01', cover_conc, fc_u, ec0_u, fcu_u, ecu_u)\n",
    "    ops.uniaxialMaterial('Steel01', steel, fy, E, b)\n",
    "\n",
    "    ops.section('Fiber', 1)\n",
    "    # Create the concrete core fibers\n",
    "    #patch('rect', matTag, numSubdivY, numSubdivZ, *crdsI, *crdsJ)\n",
    "    numSubdivY = 10\n",
    "    numSubdivZ = 1\n",
    "    ops.patch('rect', core_conc, numSubdivY, numSubdivZ, *[d/2-cov, w/2-cov, -d/2+cov, -w/2+cov]) #core\n",
    "\n",
    "    #cover concrete\n",
    "    #+y, +y, +z, -z\n",
    "    ops.patch('rect', cover_conc, 2, 1,*[d/2, w/2-cov, d/2-cov, -w/2+cov]) #top cover\n",
    "    ops.patch('rect', cover_conc, 2, 1, *[-d/2+cov, w/2-cov, -d/2, -w/2+cov]) #bot cover\n",
    "    ops.patch('rect', cover_conc, 10, 1, *[d/2 , -w/2+cov, -d/2, -w/2]) #right cover\n",
    "    ops.patch('rect', cover_conc, 10, 1, *[d/2, w/2, -d/2, w/2-cov]) #left cover\n",
    "\n",
    "    #layer('straight', matTag, numFiber, areaFiber, *start, *end)\n",
    "    #top bottom mid\n",
    "    ops.layer('straight', steel, 3, As, *[d/2-cov, w/2-cov], *[ d/2-cov, -w/2+cov])\n",
    "    ops.layer('straight', steel, 3, As, *[-d/2+cov, w/2-cov,], *[-d/2+cov, -w/2+cov])\n",
    "    ops.layer('straight', steel, 2, As, *[0, w/2-cov], *[0, -w/2+cov])    \n",
    "\n",
    "    if plotFiberSection:\n",
    "        fib_sec_list = [['section', 'Fiber', 1],\n",
    "                        ['patch', 'rect', core_conc, numSubdivY, numSubdivZ, *[d/2-cov, w/2-cov, -d/2+cov, -w/2+cov]], #core\n",
    "                        ['patch', 'rect', cover_conc, 2, 1, *[d/2, w/2-cov, d/2-cov, -w/2+cov]], #top\n",
    "                        ['patch', 'rect', cover_conc, 2, 1, *[-d/2+cov, w/2-cov, -d/2, -w/2+cov]], #bot\n",
    "                        ['patch', 'rect', cover_conc, 10, 1, *[d/2 , -w/2+cov, -d/2, -w/2]], #right cover\n",
    "                        ['patch', 'rect', cover_conc, 10, 1, *[d/2, w/2, -d/2, w/2-cov]], #left cover\n",
    "                            ['layer', 'straight', steel, 3, As, *[d/2-cov, w/2-cov], *[ d/2-cov, -w/2+cov]],\n",
    "                            ['layer', 'straight', steel, 3, As, *[-d/2+cov, w/2-cov,], *[-d/2+cov, -w/2+cov]],\n",
    "                            ['layer', 'straight', steel, 2, As, *[0, w/2-cov], *[0, -w/2+cov]],\n",
    "                       ]\n",
    "        matcolor = ['lightgrey', 'lightgrey', 'gold', 'w', 'w', 'w']\n",
    "        ovs.plot_fiber_section(fib_sec_list, matcolor=matcolor)\n",
    "        plt.axis('equal')"
   ]
  },
  {
   "cell_type": "code",
   "execution_count": 36,
   "id": "7ca95a8c-8aac-4f38-a993-969f820e024a",
   "metadata": {},
   "outputs": [
    {
     "data": {
      "image/png": "[encoded data removed]",
      "text/plain": [
       "<Figure size 640x480 with 1 Axes>"
      ]
     },
     "metadata": {},
     "output_type": "display_data"
    }
   ],
   "source": [
    "getSection(plotFiberSection = True)"
   ]
  },
  {
   "cell_type": "code",
   "execution_count": 47,
   "id": "8b02a4f2-4634-4444-9c0b-b07e93d951d0",
   "metadata": {},
   "outputs": [],
   "source": [
    "def MomentCurvature(secTag, axialLoad, maxK, numIncr = 1000):\n",
    "    #we will use zero length element to model the section for moment curvature analysis\n",
    "    #so define two nodes at 0, 0\n",
    "    ops.node(1, 0, 0)\n",
    "    ops.node(2, 0, 0)\n",
    "    \n",
    "    # Fix all degrees of freedom except axial and bending\n",
    "    ops.fix(1, 1, 1, 1)\n",
    "    ops.fix(2, 0, 1, 0)\n",
    "    \n",
    "    #define element\n",
    "    #element('zeroLength', eleTag, *eleNodes, '-mat', *matTags, '-dir', *dirs, <'-doRayleigh', rFlag=0>, <'-orient', *vecx, *vecyp>)\n",
    "    ops.element('zeroLengthSection', 1, *[1,2], secTag) \n",
    "\n",
    "    #for curvature analysis\n",
    "    conTS = 1\n",
    "    linTS = 2\n",
    "    \n",
    "    ops.timeSeries('Constant', conTS)\n",
    "    ops.pattern('Plain', 1, conTS)\n",
    "    ops.load(2, *[axialLoad, 0, 0])\n",
    "    \n",
    "    #define recorders:\n",
    "\t# Define analysis parameters\n",
    "    ops.integrator('LoadControl', 0.0)\n",
    "    ops.system('SparseGeneral', '-piv')\t# Overkill, but may need the pivoting!\n",
    "    ops.test('NormUnbalance', 1.0e-9, 10)\n",
    "    ops.numberer ('Plain')\n",
    "    ops.constraints ('Plain')\n",
    "    ops.algorithm ('Newton')\n",
    "    ops.analysis ('Static')\n",
    "    \n",
    "    # Do one analysis for constant axial load\n",
    "    ops.analyze(1)\n",
    "\n",
    "    # Create recorder\n",
    "    ops.recorder('Node', '-file', f'section{secTag}.txt', '-time', '-closeOnWrite',  '-node', 2, '-dof ', 3, 'disp')\n",
    "    \n",
    "    #define refrence moment\n",
    "    ops.timeSeries('Linear', linTS)\n",
    "    ops.pattern('Plain', 2, linTS)\n",
    "    ops.load(2, *[0, 0, 1.0])\n",
    "    \n",
    "    #compute curvature increment steps\n",
    "    dk = maxK / numIncr\n",
    "    # Use displacement control at node 2 for section analysis\n",
    "    #integrator('DisplacementControl', nodeTag, dof, incr, numIter=1, dUmin=incr, dUmax=incr)\n",
    "    ops.integrator('DisplacementControl', 2, 3, dk)\n",
    "\n",
    "    ops.record()\n",
    "    for i in range(numIncr):\n",
    "        ops.analyze(1)\n",
    "        print(ops.nodeUnbalance(2, 3), ops.getTime())"
   ]
  },
  {
   "cell_type": "markdown",
   "id": "724fa6e4-7c3e-483b-9ecc-15b025087258",
   "metadata": {},
   "source": [
    "# Analysis"
   ]
  },
  {
   "cell_type": "code",
   "execution_count": 48,
   "id": "e141eb4d-6bbb-4dce-8d1e-7b9767ccc88f",
   "metadata": {},
   "outputs": [
    {
     "data": {
      "text/plain": [
       "0.000126984126984127"
      ]
     },
     "execution_count": 48,
     "metadata": {},
     "output_type": "execute_result"
    }
   ],
   "source": [
    "# Estimate yield curvature\n",
    "# (Assuming no axial load and only top and bottom steel)\n",
    "# d -- from cover to rebar\n",
    "dcr = d-cov\n",
    "# steel yield strain\n",
    "epsy = fy/E\n",
    "Ky = epsy/(0.7*dcr) #ky is estimated yield curvature\n",
    "Ky"
   ]
  },
  {
   "cell_type": "code",
   "execution_count": 49,
   "id": "b17ad11e-327f-46ee-974b-2b967ae0b8d9",
   "metadata": {},
   "outputs": [],
   "source": [
    "# Set axial load \n",
    "P = -180.0\n",
    "\n",
    "# Target ductility for analysis\n",
    "mu = 15.0\n",
    "\n",
    "# Number of analysis increments\n",
    "numIncr = 100 "
   ]
  },
  {
   "cell_type": "code",
   "execution_count": 50,
   "id": "99a8e898-852a-4db5-b5ef-daa8feffff2f",
   "metadata": {},
   "outputs": [
    {
     "name": "stdout",
     "output_type": "stream",
     "text": [
      "1245.3025376555206 1245.3025376555206\n",
      "1809.5076756726423 1809.5076756726423\n",
      "2250.686274507143 2250.686274507143\n",
      "2658.2403186126658 2658.2403186126658\n",
      "3052.583779725404 3052.583779725404\n",
      "3441.3189161623795 3441.3189161623795\n",
      "3820.8808656105853 3820.8808656105853\n",
      "4058.7861962020565 4058.7861962020565\n",
      "4136.328151037155 4136.328151037155\n",
      "4212.591739236375 4212.591739236375\n",
      "4287.52674249006 4287.52674249006\n",
      "4361.079305347468 4361.079305347468\n",
      "4433.188430388451 4433.188430388451\n",
      "4503.615080661115 4503.615080661115\n",
      "4566.435900705584 4566.435900705584\n",
      "4628.143287609268 4628.143287609268\n",
      "4688.680331051974 4688.680331051974\n",
      "4746.955724763391 4746.955724763391\n",
      "4771.712888082872 4771.712888082872\n",
      "4783.5320915716175 4783.5320915716175\n",
      "4792.994833004024 4792.994833004024\n",
      "4802.294431191571 4802.294431191571\n",
      "4811.426340126653 4811.426340126653\n",
      "4819.233433641591 4819.233433641591\n",
      "4825.999551744126 4825.999551744126\n",
      "4832.7559243881815 4832.7559243881815\n",
      "4839.502486338366 4839.502486338366\n",
      "4840.275013256156 4840.275013256156\n",
      "4839.7361875537035 4839.7361875537035\n",
      "4839.1137576786205 4839.1137576786205\n",
      "4838.405144303385 4838.405144303385\n",
      "4837.607622678383 4837.607622678383\n",
      "4836.718310719509 4836.718310719509\n",
      "4835.73415580521 4835.73415580521\n",
      "4834.65192010739 4834.65192010739\n",
      "4833.468164251846 4833.468164251846\n",
      "4832.179229069111 4832.179229069111\n",
      "4830.781215155115 4830.781215155115\n",
      "4829.269959910969 4829.269959910969\n",
      "4827.6410116703455 4827.6410116703455\n",
      "4825.889600448956 4825.889600448956\n",
      "4824.01060475997 4824.01060475997\n",
      "4821.998513827482 4821.998513827482\n",
      "4819.847384391789 4819.847384391789\n",
      "4817.550791127541 4817.550791127541\n",
      "4815.1017694791635 4815.1017694791635\n",
      "4812.492749443752 4812.492749443752\n",
      "4809.7154784823615 4809.7154784823615\n",
      "4806.760931291686 4806.760931291686\n",
      "4803.619203586426 4803.619203586426\n",
      "4800.279386281387 4800.279386281387\n",
      "4796.729415456342 4796.729415456342\n",
      "4792.8902026800215 4792.8902026800215\n",
      "4788.643088392002 4788.643088392002\n",
      "4784.076817289156 4784.076817289156\n",
      "4779.155851528987 4779.155851528987\n",
      "4773.836713318029 4773.836713318029\n",
      "4768.0651836552315 4768.0651836552315\n",
      "4761.772073886077 4761.772073886077\n",
      "4754.8665617491 4754.8665617491\n",
      "4746.0988890963945 4746.0988890963945\n",
      "4735.069765227561 4735.069765227561\n",
      "4728.23456728503 4728.23456728503\n",
      "4725.514681653887 4725.514681653887\n",
      "4722.3205963587625 4722.3205963587625\n",
      "4718.56934718411 4718.56934718411\n",
      "4714.147455574786 4714.147455574786\n",
      "4708.8919805585365 4708.8919805585365\n",
      "4702.552912375022 4702.552912375022\n",
      "4693.787059256762 4693.787059256762\n",
      "4692.233215250941 4692.233215250941\n",
      "4694.873110755872 4694.873110755872\n",
      "4697.917713028547 4697.917713028547\n",
      "4700.960576300661 4700.960576300661\n",
      "4704.001670430923 4704.001670430923\n",
      "4707.040964397142 4707.040964397142\n",
      "4710.078426259751 4710.078426259751\n",
      "4713.114023123382 4713.114023123382\n",
      "4716.147721096324 4716.147721096324\n",
      "4719.179485247763 4719.179485247763\n",
      "4722.20927956263 4722.20927956263\n",
      "4725.237066893881 4725.237066893881\n",
      "4728.262808912057 4728.262808912057\n",
      "4731.286466051909 4731.286466051909\n",
      "4734.307997455889 4734.307997455889\n",
      "4737.3273609142725 4737.3273609142725\n",
      "4740.344512801664 4740.344512801664\n",
      "4743.359408009625 4743.359408009625\n",
      "4746.371999875111 4746.371999875111\n",
      "4749.382240104417 4749.382240104417\n",
      "4752.39007869226 4752.39007869226\n",
      "4755.395463835641 4755.395463835641\n",
      "4758.398341842037 4758.398341842037\n",
      "4761.398657031477 4761.398657031477\n",
      "4764.396351632005 4764.396351632005\n",
      "4767.391365667956 4767.391365667956\n",
      "4770.383636840446 4770.383636840446\n",
      "4773.373100399395 4773.373100399395\n",
      "4776.359689006338 4776.359689006338\n",
      "4779.3433325872165 4779.3433325872165\n"
     ]
    },
    {
     "data": {
      "image/png": "[encoded data removed]",
      "text/plain": [
       "<Figure size 640x480 with 1 Axes>"
      ]
     },
     "metadata": {},
     "output_type": "display_data"
    }
   ],
   "source": [
    "getSection()\n",
    "# Call the section analysis procedure\n",
    "MomentCurvature(1, P, Ky*mu, numIncr)"
   ]
  },
  {
   "cell_type": "code",
   "execution_count": 51,
   "id": "f311069f-4ef5-4b33-a034-a36729555ffc",
   "metadata": {},
   "outputs": [
    {
     "name": "stdout",
     "output_type": "stream",
     "text": [
      "Passed!\n"
     ]
    }
   ],
   "source": [
    "u = ops.nodeDisp(2,3)\n",
    "if abs(u-0.00190476190476190541)<1e-12:\n",
    "    print(\"Passed!\")\n",
    "else:\n",
    "    print(\"Failed!\")"
   ]
  },
  {
   "cell_type": "code",
   "execution_count": 52,
   "id": "d7bdacd9-9e54-47f9-acc4-50e475c00bf6",
   "metadata": {
    "scrolled": true
   },
   "outputs": [
    {
     "data": {
      "text/plain": [
       "array([[ 0.00000e+00, -1.09630e-21],\n",
       "       [ 1.24530e+03,  1.90476e-05],\n",
       "       [ 1.80951e+03,  3.80952e-05],\n",
       "       [ 2.25069e+03,  5.71429e-05],\n",
       "       [ 2.65824e+03,  7.61905e-05],\n",
       "       [ 3.05258e+03,  9.52381e-05],\n",
       "       [ 3.44132e+03,  1.14286e-04],\n",
       "       [ 3.82088e+03,  1.33333e-04],\n",
       "       [ 4.05879e+03,  1.52381e-04],\n",
       "       [ 4.13633e+03,  1.71429e-04],\n",
       "       [ 4.21259e+03,  1.90476e-04],\n",
       "       [ 4.28753e+03,  2.09524e-04],\n",
       "       [ 4.36108e+03,  2.28571e-04],\n",
       "       [ 4.43319e+03,  2.47619e-04],\n",
       "       [ 4.50362e+03,  2.66667e-04],\n",
       "       [ 4.56644e+03,  2.85714e-04],\n",
       "       [ 4.62814e+03,  3.04762e-04],\n",
       "       [ 4.68868e+03,  3.23810e-04],\n",
       "       [ 4.74696e+03,  3.42857e-04],\n",
       "       [ 4.77171e+03,  3.61905e-04],\n",
       "       [ 4.78353e+03,  3.80952e-04],\n",
       "       [ 4.79299e+03,  4.00000e-04],\n",
       "       [ 4.80229e+03,  4.19048e-04],\n",
       "       [ 4.81143e+03,  4.38095e-04],\n",
       "       [ 4.81923e+03,  4.57143e-04],\n",
       "       [ 4.82600e+03,  4.76190e-04],\n",
       "       [ 4.83276e+03,  4.95238e-04],\n",
       "       [ 4.83950e+03,  5.14286e-04],\n",
       "       [ 4.84028e+03,  5.33333e-04],\n",
       "       [ 4.83974e+03,  5.52381e-04],\n",
       "       [ 4.83911e+03,  5.71429e-04],\n",
       "       [ 4.83841e+03,  5.90476e-04],\n",
       "       [ 4.83761e+03,  6.09524e-04],\n",
       "       [ 4.83672e+03,  6.28571e-04],\n",
       "       [ 4.83573e+03,  6.47619e-04],\n",
       "       [ 4.83465e+03,  6.66667e-04],\n",
       "       [ 4.83347e+03,  6.85714e-04],\n",
       "       [ 4.83218e+03,  7.04762e-04],\n",
       "       [ 4.83078e+03,  7.23810e-04],\n",
       "       [ 4.82927e+03,  7.42857e-04],\n",
       "       [ 4.82764e+03,  7.61905e-04],\n",
       "       [ 4.82589e+03,  7.80952e-04],\n",
       "       [ 4.82401e+03,  8.00000e-04],\n",
       "       [ 4.82200e+03,  8.19048e-04],\n",
       "       [ 4.81985e+03,  8.38095e-04],\n",
       "       [ 4.81755e+03,  8.57143e-04],\n",
       "       [ 4.81510e+03,  8.76190e-04],\n",
       "       [ 4.81249e+03,  8.95238e-04],\n",
       "       [ 4.80972e+03,  9.14286e-04],\n",
       "       [ 4.80676e+03,  9.33333e-04],\n",
       "       [ 4.80362e+03,  9.52381e-04],\n",
       "       [ 4.80028e+03,  9.71429e-04],\n",
       "       [ 4.79673e+03,  9.90476e-04],\n",
       "       [ 4.79289e+03,  1.00952e-03],\n",
       "       [ 4.78864e+03,  1.02857e-03],\n",
       "       [ 4.78408e+03,  1.04762e-03],\n",
       "       [ 4.77916e+03,  1.06667e-03],\n",
       "       [ 4.77384e+03,  1.08571e-03],\n",
       "       [ 4.76807e+03,  1.10476e-03],\n",
       "       [ 4.76177e+03,  1.12381e-03],\n",
       "       [ 4.75487e+03,  1.14286e-03],\n",
       "       [ 4.74610e+03,  1.16190e-03],\n",
       "       [ 4.73507e+03,  1.18095e-03],\n",
       "       [ 4.72823e+03,  1.20000e-03],\n",
       "       [ 4.72551e+03,  1.21905e-03],\n",
       "       [ 4.72232e+03,  1.23810e-03],\n",
       "       [ 4.71857e+03,  1.25714e-03],\n",
       "       [ 4.71415e+03,  1.27619e-03],\n",
       "       [ 4.70889e+03,  1.29524e-03],\n",
       "       [ 4.70255e+03,  1.31429e-03],\n",
       "       [ 4.69379e+03,  1.33333e-03],\n",
       "       [ 4.69223e+03,  1.35238e-03],\n",
       "       [ 4.69487e+03,  1.37143e-03],\n",
       "       [ 4.69792e+03,  1.39048e-03],\n",
       "       [ 4.70096e+03,  1.40952e-03],\n",
       "       [ 4.70400e+03,  1.42857e-03],\n",
       "       [ 4.70704e+03,  1.44762e-03],\n",
       "       [ 4.71008e+03,  1.46667e-03],\n",
       "       [ 4.71311e+03,  1.48571e-03],\n",
       "       [ 4.71615e+03,  1.50476e-03],\n",
       "       [ 4.71918e+03,  1.52381e-03],\n",
       "       [ 4.72221e+03,  1.54286e-03],\n",
       "       [ 4.72524e+03,  1.56190e-03],\n",
       "       [ 4.72826e+03,  1.58095e-03],\n",
       "       [ 4.73129e+03,  1.60000e-03],\n",
       "       [ 4.73431e+03,  1.61905e-03],\n",
       "       [ 4.73733e+03,  1.63810e-03],\n",
       "       [ 4.74034e+03,  1.65714e-03],\n",
       "       [ 4.74336e+03,  1.67619e-03],\n",
       "       [ 4.74637e+03,  1.69524e-03],\n",
       "       [ 4.74938e+03,  1.71429e-03],\n",
       "       [ 4.75239e+03,  1.73333e-03],\n",
       "       [ 4.75540e+03,  1.75238e-03],\n",
       "       [ 4.75840e+03,  1.77143e-03],\n",
       "       [ 4.76140e+03,  1.79048e-03],\n",
       "       [ 4.76440e+03,  1.80952e-03],\n",
       "       [ 4.76739e+03,  1.82857e-03],\n",
       "       [ 4.77038e+03,  1.84762e-03],\n",
       "       [ 4.77337e+03,  1.86667e-03],\n",
       "       [ 4.77636e+03,  1.88571e-03],\n",
       "       [ 4.77934e+03,  1.90476e-03]])"
      ]
     },
     "execution_count": 52,
     "metadata": {},
     "output_type": "execute_result"
    }
   ],
   "source": [
    "data = np.loadtxt(\"section1.txt\", delimiter=\" \")\n",
    "data"
   ]
  },
  {
   "cell_type": "code",
   "execution_count": 53,
   "id": "7d0a7cbc-f317-4ce8-ac63-09431482abce",
   "metadata": {},
   "outputs": [
    {
     "data": {
      "text/plain": [
       "Text(0, 0.5, 'Moment')"
      ]
     },
     "execution_count": 53,
     "metadata": {},
     "output_type": "execute_result"
    },
    {
     "data": {
      "image/png": "[encoded data removed]",
      "text/plain": [
       "<Figure size 640x480 with 1 Axes>"
      ]
     },
     "metadata": {},
     "output_type": "display_data"
    }
   ],
   "source": [
    "plt.plot(data[:, 1], data[:, 0])\n",
    "plt.title(\"Moment-Curvature Curve\")\n",
    "plt.xlabel(\"Curvature\")\n",
    "plt.ylabel(\"Moment\")"
   ]
  },
  {
   "cell_type": "code",
   "execution_count": null,
   "id": "b529a5ec-9b97-4019-a7d5-c82c59b3a923",
   "metadata": {},
   "outputs": [],
   "source": []
  }
 ],
 "metadata": {
  "kernelspec": {
   "display_name": "Python 3 (ipykernel)",
   "language": "python",
   "name": "python3"
  },
  "language_info": {
   "codemirror_mode": {
    "name": "ipython",
    "version": 3
   },
   "file_extension": ".py",
   "mimetype": "text/x-python",
   "name": "python",
   "nbconvert_exporter": "python",
   "pygments_lexer": "ipython3",
   "version": "3.11.9"
  },
  "widgets": {
   "application/vnd.jupyter.widget-state+json": {
    "state": {},
    "version_major": 2,
    "version_minor": 0
   }
  }
 },
 "nbformat": 4,
 "nbformat_minor": 5
}
