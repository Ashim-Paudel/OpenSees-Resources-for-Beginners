{
 "cells": [
  {
   "cell_type": "markdown",
   "id": "661bada5",
   "metadata": {},
   "source": [
    "Link to the example:\n",
    "\n",
    "https://openseespydoc.readthedocs.io/en/stable/src/PortalFrame2d.html"
   ]
  },
  {
   "cell_type": "code",
   "execution_count": 1,
   "id": "4692d5f1",
   "metadata": {},
   "outputs": [],
   "source": [
    "from openseespy import opensees as op\n",
    "from openseespy.postprocessing import ops_vis as ov"
   ]
  },
  {
   "cell_type": "code",
   "execution_count": 2,
   "id": "cd1cadac",
   "metadata": {},
   "outputs": [],
   "source": [
    "op.wipe()"
   ]
  },
  {
   "cell_type": "code",
   "execution_count": 3,
   "id": "50f0119b",
   "metadata": {},
   "outputs": [],
   "source": [
    "op.model('BasicBuilder', '-ndm', 2, '-ndf', )"
   ]
  },
  {
   "cell_type": "code",
   "execution_count": 4,
   "id": "d91e6fe2",
   "metadata": {},
   "outputs": [],
   "source": [
    "numBay = 2\n",
    "numFloor = 7"
   ]
  },
  {
   "cell_type": "code",
   "execution_count": 5,
   "id": "714621ea",
   "metadata": {},
   "outputs": [],
   "source": [
    "#units in feet and kip\n",
    "bayWidth = 360.0\n",
    "storyHeights = [162.0, 162.0, 156.0, 156.0, 156.0, 156.0, 156.0]\n",
    "E = 29500.0\n",
    "massX = 0.49\n",
    "M = 0.\n"
   ]
  },
  {
   "cell_type": "code",
   "execution_count": 6,
   "id": "787fef88",
   "metadata": {},
   "outputs": [],
   "source": [
    "beams = ['W24X160', 'W24X160', 'W24X130', 'W24X130', 'W24X110', 'W24X110', 'W24X110']\n",
    "eColumn = ['W14X246', 'W14X246', 'W14X246', 'W14X211', 'W14X211', 'W14X176', 'W14X176']\n",
    "iColumn = ['W14X287', 'W14X287', 'W14X287', 'W14X246', 'W14X246', 'W14X211', 'W14X211']\n",
    "columns = [eColumn, iColumn, eColumn]\n",
    "\n",
    "WSection = {\n",
    "    'W14X176': [51.7, 2150.],\n",
    "    'W14X211': [62.1, 2670.],\n",
    "    'W14X246': [72.3, 3230.],\n",
    "    'W14X287': [84.4, 3910.],\n",
    "    'W24X110': [32.5, 3330.],\n",
    "    'W24X130': [38.3, 4020.],\n",
    "    'W24X160': [47.1, 5120.]\n",
    "}"
   ]
  },
  {
   "cell_type": "code",
   "execution_count": 7,
   "id": "abc59c2d",
   "metadata": {},
   "outputs": [],
   "source": [
    "#element('elasticBeamColumn', eleTag, *eleNodes, Area, E_mod, G_mod, Jxx, Iy, Iz, transfTag, <'-mass', mass>, <'-cMass'>)\n",
    "\n",
    "def ElasticBeamColumn(eleTag, iNode, jNode, sectType, E, transfTag, M, massType):\n",
    "    found = 0\n",
    "\n",
    "    prop = WSection[sectType]\n",
    "\n",
    "    A = prop[0]\n",
    "    I = prop[1]\n",
    "    op.element('elasticBeamColumn', eleTag, iNode, jNode, A, E, I, transfTag, '-mass', M, massType)\n"
   ]
  },
  {
   "cell_type": "code",
   "execution_count": 8,
   "id": "0e71e0bb",
   "metadata": {},
   "outputs": [],
   "source": [
    "nodeTag = 1\n",
    "\n",
    "yLoc = 0\n",
    "for j in range(numFloor+1):\n",
    "    xLoc = 0\n",
    "    for i in range(numBay+1):\n",
    "        op.node(nodeTag, xLoc, yLoc)\n",
    "        xLoc += bayWidth\n",
    "        nodeTag += 1\n",
    "        \n",
    "    if j < numFloor:\n",
    "        storyHeight = storyHeights[j]\n",
    "    \n",
    "    yLoc += storyHeight\n"
   ]
  },
  {
   "cell_type": "code",
   "execution_count": 9,
   "id": "32f3d458",
   "metadata": {},
   "outputs": [],
   "source": [
    "# fix first floor\n",
    "op.fix(1, 1, 1, 1)\n",
    "op.fix(2, 1, 1, 1)\n",
    "op.fix(3, 1, 1, 1)"
   ]
  },
  {
   "cell_type": "code",
   "execution_count": 10,
   "id": "b7ab3762",
   "metadata": {},
   "outputs": [],
   "source": [
    "# rigid floor constraint & masses\n",
    "nodeTagR = 5\n",
    "nodeTag = 4\n",
    "for j in range(1, numFloor + 1):\n",
    "    for i in range(0, numBay + 1):\n",
    "\n",
    "        if nodeTag != nodeTagR:\n",
    "            op.equalDOF(nodeTagR, nodeTag, 1)\n",
    "        else:\n",
    "            op.mass(nodeTagR, massX, 1.0e-10, 1.0e-10)\n",
    "\n",
    "        nodeTag += 1\n",
    "\n",
    "    nodeTagR += numBay + 1"
   ]
  },
  {
   "cell_type": "code",
   "execution_count": 11,
   "id": "ce31d6c3",
   "metadata": {},
   "outputs": [
    {
     "name": "stderr",
     "output_type": "stream",
     "text": [
      "Current Domain Information\n",
      "\tCurrent Time: 0\n",
      "tCommitted Time: 0\n",
      "NODE DATA: NumNodes: 24\n",
      "\n",
      "numComponents: 24\n",
      " Node: 1\n",
      "\tCoordinates  : 0 0 \n",
      "\n",
      "\n",
      " Node: 2\n",
      "\tCoordinates  : 360 0 \n",
      "\n",
      "\n",
      " Node: 3\n",
      "\tCoordinates  : 720 0 \n",
      "\n",
      "\n",
      " Node: 4\n",
      "\tCoordinates  : 0 162 \n",
      "\n",
      "\n",
      " Node: 5\n",
      "\tCoordinates  : 360 162 \n",
      "\tMass : \n",
      "0.49 0 0 \n",
      "0 1e-10 0 \n",
      "0 0 1e-10 \n",
      "\n",
      "\t Rayleigh Factor: alphaM: 0\n",
      "\t Rayleigh Forces: 0 0 0 \n",
      "\n",
      "\n",
      " Node: 6\n",
      "\tCoordinates  : 720 162 \n",
      "\n",
      "\n",
      " Node: 7\n",
      "\tCoordinates  : 0 324 \n",
      "\n",
      "\n",
      " Node: 8\n",
      "\tCoordinates  : 360 324 \n",
      "\tMass : \n",
      "0.49 0 0 \n",
      "0 1e-10 0 \n",
      "0 0 1e-10 \n",
      "\n",
      "\t Rayleigh Factor: alphaM: 0\n",
      "\t Rayleigh Forces: 0 0 0 \n",
      "\n",
      "\n",
      " Node: 9\n",
      "\tCoordinates  : 720 324 \n",
      "\n",
      "\n",
      " Node: 10\n",
      "\tCoordinates  : 0 480 \n",
      "\n",
      "\n",
      " Node: 11\n",
      "\tCoordinates  : 360 480 \n",
      "\tMass : \n",
      "0.49 0 0 \n",
      "0 1e-10 0 \n",
      "0 0 1e-10 \n",
      "\n",
      "\t Rayleigh Factor: alphaM: 0\n",
      "\t Rayleigh Forces: 0 0 0 \n",
      "\n",
      "\n",
      " Node: 12\n",
      "\tCoordinates  : 720 480 \n",
      "\n",
      "\n",
      " Node: 13\n",
      "\tCoordinates  : 0 636 \n",
      "\n",
      "\n",
      " Node: 14\n",
      "\tCoordinates  : 360 636 \n",
      "\tMass : \n",
      "0.49 0 0 \n",
      "0 1e-10 0 \n",
      "0 0 1e-10 \n",
      "\n",
      "\t Rayleigh Factor: alphaM: 0\n",
      "\t Rayleigh Forces: 0 0 0 \n",
      "\n",
      "\n",
      " Node: 15\n",
      "\tCoordinates  : 720 636 \n",
      "\n",
      "\n",
      " Node: 16\n",
      "\tCoordinates  : 0 792 \n",
      "\n",
      "\n",
      " Node: 17\n",
      "\tCoordinates  : 360 792 \n",
      "\tMass : \n",
      "0.49 0 0 \n",
      "0 1e-10 0 \n",
      "0 0 1e-10 \n",
      "\n",
      "\t Rayleigh Factor: alphaM: 0\n",
      "\t Rayleigh Forces: 0 0 0 \n",
      "\n",
      "\n",
      " Node: 18\n",
      "\tCoordinates  : 720 792 \n",
      "\n",
      "\n",
      " Node: 19\n",
      "\tCoordinates  : 0 948 \n",
      "\n",
      "\n",
      " Node: 20\n",
      "\tCoordinates  : 360 948 \n",
      "\tMass : \n",
      "0.49 0 0 \n",
      "0 1e-10 0 \n",
      "0 0 1e-10 \n",
      "\n",
      "\t Rayleigh Factor: alphaM: 0\n",
      "\t Rayleigh Forces: 0 0 0 \n",
      "\n",
      "\n",
      " Node: 21\n",
      "\tCoordinates  : 720 948 \n",
      "\n",
      "\n",
      " Node: 22\n",
      "\tCoordinates  : 0 1104 \n",
      "\n",
      "\n",
      " Node: 23\n",
      "\tCoordinates  : 360 1104 \n",
      "\tMass : \n",
      "0.49 0 0 \n",
      "0 1e-10 0 \n",
      "0 0 1e-10 \n",
      "\n",
      "\t Rayleigh Factor: alphaM: 0\n",
      "\t Rayleigh Forces: 0 0 0 \n",
      "\n",
      "\n",
      " Node: 24\n",
      "\tCoordinates  : 720 1104 \n",
      "\n",
      "ELEMENT DATA: NumEle: 0\n",
      "\n",
      "numComponents: 0\n",
      "SP_Constraints: numConstraints: 9\n",
      "\n",
      "numComponents: 9SP_Constraint: 0\t Node: 1 DOF: 1 ref value: 0 current value: 0\n",
      "SP_Constraint: 1\t Node: 1 DOF: 2 ref value: 0 current value: 0\n",
      "SP_Constraint: 2\t Node: 1 DOF: 3 ref value: 0 current value: 0\n",
      "SP_Constraint: 3\t Node: 2 DOF: 1 ref value: 0 current value: 0\n",
      "SP_Constraint: 4\t Node: 2 DOF: 2 ref value: 0 current value: 0\n",
      "SP_Constraint: 5\t Node: 2 DOF: 3 ref value: 0 current value: 0\n",
      "SP_Constraint: 6\t Node: 3 DOF: 1 ref value: 0 current value: 0\n",
      "SP_Constraint: 7\t Node: 3 DOF: 2 ref value: 0 current value: 0\n",
      "SP_Constraint: 8\t Node: 3 DOF: 3 ref value: 0 current value: 0\n",
      "\n",
      "Pressure_Constraints: numConstraints: 0\n",
      "\n",
      "numComponents: 0\n",
      "MP_Constraints: numConstraints: 14\n",
      "\n",
      "numComponents: 14MP_Constraint: 0\n",
      "\tNode Constrained: 4 node Retained: 5\n",
      " constrained dof: 1 \n",
      " retained dof: 1 \n",
      " constraint matrix: \n",
      "1 \n",
      "\n",
      "\n",
      "MP_Constraint: 1\n",
      "\tNode Constrained: 6 node Retained: 5\n",
      " constrained dof: 1 \n",
      " retained dof: 1 \n",
      " constraint matrix: \n",
      "1 \n",
      "\n",
      "\n",
      "MP_Constraint: 2\n",
      "\tNode Constrained: 7 node Retained: 8\n",
      " constrained dof: 1 \n",
      " retained dof: 1 \n",
      " constraint matrix: \n",
      "1 \n",
      "\n",
      "\n",
      "MP_Constraint: 3\n",
      "\tNode Constrained: 9 node Retained: 8\n",
      " constrained dof: 1 \n",
      " retained dof: 1 \n",
      " constraint matrix: \n",
      "1 \n",
      "\n",
      "\n",
      "MP_Constraint: 4\n",
      "\tNode Constrained: 10 node Retained: 11\n",
      " constrained dof: 1 \n",
      " retained dof: 1 \n",
      " constraint matrix: \n",
      "1 \n",
      "\n",
      "\n",
      "MP_Constraint: 5\n",
      "\tNode Constrained: 12 node Retained: 11\n",
      " constrained dof: 1 \n",
      " retained dof: 1 \n",
      " constraint matrix: \n",
      "1 \n",
      "\n",
      "\n",
      "MP_Constraint: 6\n",
      "\tNode Constrained: 13 node Retained: 14\n",
      " constrained dof: 1 \n",
      " retained dof: 1 \n",
      " constraint matrix: \n",
      "1 \n",
      "\n",
      "\n",
      "MP_Constraint: 7\n",
      "\tNode Constrained: 15 node Retained: 14\n",
      " constrained dof: 1 \n",
      " retained dof: 1 \n",
      " constraint matrix: \n",
      "1 \n",
      "\n",
      "\n",
      "MP_Constraint: 8\n",
      "\tNode Constrained: 16 node Retained: 17\n",
      " constrained dof: 1 \n",
      " retained dof: 1 \n",
      " constraint matrix: \n",
      "1 \n",
      "\n",
      "\n",
      "MP_Constraint: 9\n",
      "\tNode Constrained: 18 node Retained: 17\n",
      " constrained dof: 1 \n",
      " retained dof: 1 \n",
      " constraint matrix: \n",
      "1 \n",
      "\n",
      "\n",
      "MP_Constraint: 10\n",
      "\tNode Constrained: 19 node Retained: 20\n",
      " constrained dof: 1 \n",
      " retained dof: 1 \n",
      " constraint matrix: \n",
      "1 \n",
      "\n",
      "\n",
      "MP_Constraint: 11\n",
      "\tNode Constrained: 21 node Retained: 20\n",
      " constrained dof: 1 \n",
      " retained dof: 1 \n",
      " constraint matrix: \n",
      "1 \n",
      "\n",
      "\n",
      "MP_Constraint: 12\n",
      "\tNode Constrained: 22 node Retained: 23\n",
      " constrained dof: 1 \n",
      " retained dof: 1 \n",
      " constraint matrix: \n",
      "1 \n",
      "\n",
      "\n",
      "MP_Constraint: 13\n",
      "\tNode Constrained: 24 node Retained: 23\n",
      " constrained dof: 1 \n",
      " retained dof: 1 \n",
      " constraint matrix: \n",
      "1 \n",
      "\n",
      "\n",
      "\n",
      "LOAD PATTERNS: numPatterns: 0\n",
      "\n",
      "\n",
      "numComponents: 0\n",
      "PARAMETERS: numParameters: 0\n",
      "\n",
      "\n",
      "numComponents: 0"
     ]
    }
   ],
   "source": [
    "op.printModel()"
   ]
  },
  {
   "cell_type": "code",
   "execution_count": 12,
   "id": "51ff8091",
   "metadata": {},
   "outputs": [],
   "source": [
    "# add the columns\n",
    "# add column element\n",
    "coordTransf = 'Linear'\n",
    "\n",
    "op.geomTransf(coordTransf, 1)\n"
   ]
  },
  {
   "cell_type": "code",
   "execution_count": 13,
   "id": "06725697",
   "metadata": {},
   "outputs": [],
   "source": [
    "massType = \"-lmass\""
   ]
  },
  {
   "cell_type": "code",
   "execution_count": 14,
   "id": "a616b476",
   "metadata": {},
   "outputs": [],
   "source": [
    "eleTag = 1\n",
    "for j in range(0, numBay + 1):\n",
    "\n",
    "    end1 = j + 1\n",
    "    end2 = end1 + numBay + 1\n",
    "    thisColumn = columns[j]\n",
    "\n",
    "    for i in range(0, numFloor):\n",
    "        secType = thisColumn[i]\n",
    "        ElasticBeamColumn(eleTag, end1, end2, secType, E, 1, M, massType)\n",
    "        end1 = end2\n",
    "        end2 += numBay + 1\n",
    "        eleTag += 1"
   ]
  },
  {
   "cell_type": "code",
   "execution_count": 15,
   "id": "e7a61b34",
   "metadata": {},
   "outputs": [],
   "source": [
    "# add beam elements\n",
    "for j in range(1, numFloor + 1):\n",
    "    end1 = (numBay + 1) * j + 1\n",
    "    end2 = end1 + 1\n",
    "    secType = beams[j - 1]\n",
    "    for i in range(0, numBay):\n",
    "        ElasticBeamColumn(eleTag, end1, end2, secType, E, 1, M, massType)\n",
    "        end1 = end2\n",
    "        end2 = end1 + 1\n",
    "        eleTag += 1"
   ]
  },
  {
   "cell_type": "code",
   "execution_count": 16,
   "id": "b1b02840",
   "metadata": {},
   "outputs": [
    {
     "data": {
      "image/png": "[encoded data removed]",
      "text/plain": [
       "<Figure size 453.543x283.465 with 1 Axes>"
      ]
     },
     "metadata": {
      "needs_background": "light"
     },
     "output_type": "display_data"
    }
   ],
   "source": [
    "ov.plot_model()"
   ]
  },
  {
   "cell_type": "code",
   "execution_count": 17,
   "id": "870e99a0",
   "metadata": {},
   "outputs": [],
   "source": [
    "# calculate eigenvalues & print results\n",
    "numEigen = 7\n",
    "eigenValues = op.eigen(numEigen)"
   ]
  },
  {
   "cell_type": "code",
   "execution_count": 18,
   "id": "d6daca43",
   "metadata": {},
   "outputs": [],
   "source": [
    "from math import asin, sqrt\n",
    "\n",
    "PI = 2 * asin(1.0)"
   ]
  },
  {
   "cell_type": "code",
   "execution_count": 19,
   "id": "99740d90",
   "metadata": {},
   "outputs": [
    {
     "data": {
      "text/plain": [
       "[24.353359829249772,\n",
       " 212.24827958765874,\n",
       " 673.8667140892261,\n",
       " 1538.6840332562663,\n",
       " 2788.3185834248584,\n",
       " 4368.470594124372,\n",
       " 6244.022327092777]"
      ]
     },
     "execution_count": 19,
     "metadata": {},
     "output_type": "execute_result"
    }
   ],
   "source": [
    "eigenValues"
   ]
  },
  {
   "cell_type": "code",
   "execution_count": 20,
   "id": "14171d4d",
   "metadata": {},
   "outputs": [],
   "source": [
    "op.timeSeries('Linear', 1)\n",
    "op.pattern('Plain', 1, 1)\n",
    "op.load(22, 20.0, 0., 0.)\n",
    "op.load(19, 15.0, 0., 0.)\n",
    "op.load(16, 12.5, 0., 0.)\n",
    "op.load(13, 10.0, 0., 0.)\n",
    "op.load(10, 7.5, 0., 0.)\n",
    "op.load(7, 5.0, 0., 0.)\n",
    "op.load(4, 2.5, 0., 0.)"
   ]
  },
  {
   "cell_type": "code",
   "execution_count": 21,
   "id": "4250c8c9",
   "metadata": {},
   "outputs": [
    {
     "ename": "AttributeError",
     "evalue": "module 'openseespy.postprocessing.ops_vis' has no attribute 'plot_supports_and_loads_2d'",
     "output_type": "error",
     "traceback": [
      "\u001b[1;31m---------------------------------------------------------------------------\u001b[0m",
      "\u001b[1;31mAttributeError\u001b[0m                            Traceback (most recent call last)",
      "\u001b[1;32m~\\AppData\\Local\\Temp/ipykernel_6284/349696822.py\u001b[0m in \u001b[0;36m<module>\u001b[1;34m\u001b[0m\n\u001b[1;32m----> 1\u001b[1;33m \u001b[0mov\u001b[0m\u001b[1;33m.\u001b[0m\u001b[0mplot_supports_and_loads_2d\u001b[0m\u001b[1;33m(\u001b[0m\u001b[1;33m)\u001b[0m\u001b[1;33m\u001b[0m\u001b[1;33m\u001b[0m\u001b[0m\n\u001b[0m",
      "\u001b[1;31mAttributeError\u001b[0m: module 'openseespy.postprocessing.ops_vis' has no attribute 'plot_supports_and_loads_2d'"
     ]
    }
   ],
   "source": [
    "ov.plot_supports_and_loads_2d()"
   ]
  },
  {
   "cell_type": "code",
   "execution_count": 42,
   "id": "f75b2ec0",
   "metadata": {},
   "outputs": [
    {
     "data": {
      "text/plain": [
       "0"
      ]
     },
     "execution_count": 42,
     "metadata": {},
     "output_type": "execute_result"
    }
   ],
   "source": [
    "op.integrator('LoadControl', 1.0)\n",
    "op.algorithm('Linear')\n",
    "op.analysis('Static')\n",
    "op.analyze(1)"
   ]
  },
  {
   "cell_type": "code",
   "execution_count": null,
   "id": "bb182af3",
   "metadata": {},
   "outputs": [],
   "source": []
  }
 ],
 "metadata": {
  "kernelspec": {
   "display_name": "Python 3 (ipykernel)",
   "language": "python",
   "name": "python3"
  },
  "language_info": {
   "codemirror_mode": {
    "name": "ipython",
    "version": 3
   },
   "file_extension": ".py",
   "mimetype": "text/x-python",
   "name": "python",
   "nbconvert_exporter": "python",
   "pygments_lexer": "ipython3",
   "version": "3.8.10"
  }
 },
 "nbformat": 4,
 "nbformat_minor": 5
}
