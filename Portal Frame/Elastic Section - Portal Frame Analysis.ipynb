{
 "cells": [
  {
   "attachments": {},
   "cell_type": "markdown",
   "id": "19d76c31-1412-4f7e-9de1-e3916b5fbd15",
   "metadata": {},
   "source": [
    "Original Opensees Example Link: https://opensees.berkeley.edu/wiki/index.php/OpenSees_Example_4._Portal_Frame\n",
    "\n",
    "<img src=\"https://opensees.berkeley.edu/wiki/images/e/e0/Example4_figure1.GIF\" align=\"left\"></img>\n",
    "<img src=\"https://opensees.berkeley.edu/wiki/images/5/59/Example1b_Push.GIF\" align=\"right\"></img>"
   ]
  },
  {
   "cell_type": "code",
   "execution_count": 1,
   "id": "a2858f7f-8dd1-4831-a84e-c6b9d846ffec",
   "metadata": {},
   "outputs": [],
   "source": [
    "import openseespy.opensees as ops\n",
    "import opsvis as ovs\n",
    "import numpy as np\n",
    "import matplotlib.pyplot as plt\n",
    "import math"
   ]
  },
  {
   "cell_type": "markdown",
   "id": "a0887a62-b8a7-41a2-9a7a-a0dcfe795af9",
   "metadata": {},
   "source": [
    "## Units Conversion"
   ]
  },
  {
   "cell_type": "code",
   "execution_count": 36,
   "id": "d8b59e3d-1c01-4424-a258-10ff93c9c9fa",
   "metadata": {},
   "outputs": [],
   "source": [
    "#length conversion\n",
    "m = 1.0\n",
    "cm = 100*m # centimeter, needed for displacement input in MultipleSupport excitation\n",
    "inch = m/39.37\n",
    "ft = 12.*inch \n",
    "\n",
    "#area conversion\n",
    "sqinch = inch**2\n",
    "inch4 = inch**4\n",
    "\n",
    "#ksi to pa\n",
    "pa = 1.0\n",
    "kpa = 1000*pa\n",
    "ksi = 6.89*1000*kpa  #ksi = kip / sqinch\n",
    "psi = ksi/1000.\n",
    "\n",
    "\n",
    "#kip to kN\n",
    "N = 1.0\n",
    "kN = 1000 * N\n",
    "kip = 4.45 * kN\n",
    "\n",
    "# pound to kg\n",
    "kg = 1 \n",
    "pound = 0.453592 * kg\n",
    "lbf = psi*inch**2  #pounds force\n",
    "pcf = lbf/math.pow(ft, 3) #pounds per cubic foot\n",
    "psf = lbf/math.pow(ft, 2) #pounds per square foot\n",
    "\n",
    "\n",
    "# acceleration due to gravity\n",
    "g = 9.81 #m/s^2\n",
    "\n",
    "#time\n",
    "sec = 1.0\n"
   ]
  },
  {
   "cell_type": "markdown",
   "id": "4a7b219d-49f3-458e-a1b1-987d82eb7b76",
   "metadata": {},
   "source": [
    "## Model Varibles for Elastic Element Section"
   ]
  },
  {
   "cell_type": "code",
   "execution_count": 3,
   "id": "02d0aa64-05af-453b-9d31-bd92b1e0d1a6",
   "metadata": {},
   "outputs": [],
   "source": [
    "#refrences taken from elastic model in original example \n",
    "sectionType = 'elastic'  #this analysis uses elastic section of beam and column\n",
    "\n",
    "#Structure Geometry\n",
    "LCol = 36.*ft\t\t# column length\n",
    "LBeam = 42.*ft\t\t# beam length\n",
    "Weight = 4000.*kip\t\t# superstructure weight #total imposed load on the beam in kN or Kip\n",
    "\n",
    "\n",
    "#section general geometry\n",
    "HCol = 5.*ft #depth of column\n",
    "BCol = 4.*ft #width of column\n",
    "HBeam = 8.*ft #depth of beam\n",
    "BBeam = 5.*ft #width of beam\n",
    "\n",
    "# calculated parameters\n",
    "PCol = Weight/2 #nodal dead weight per column\n",
    "Mass = PCol/g #nodal mass\n",
    "MCol = 1./12.* (Weight/LBeam) *math.pow(LBeam,2)\t# beam-end moment due to distributed load.        #wl^2/12\n",
    "\n",
    "\n",
    "#calculated geometry parameters\n",
    "ACol = BCol * HCol\n",
    "ABeam = BBeam * HBeam\n",
    "IzCol = 1./12. * BCol * math.pow(HCol, 3)\n",
    "IzBeam = 1./12. * BBeam * math.pow(HBeam, 3)"
   ]
  },
  {
   "cell_type": "markdown",
   "id": "3988849d-7643-4f0e-8cbf-383c543b1c18",
   "metadata": {},
   "source": [
    "## Model Functions"
   ]
  },
  {
   "cell_type": "code",
   "execution_count": 4,
   "id": "39f12baa-81f2-4d75-a5f9-12a3122d6802",
   "metadata": {},
   "outputs": [],
   "source": [
    "def getModel():\n",
    "    ops.wipe()\n",
    "    ops.model(\"BasicBuilder\", '-ndm', 2, '-ndf', 3)\n",
    "\n",
    "    #nodes definition\n",
    "    xcor = [0, LBeam]\n",
    "    ycor = [0, LCol]\n",
    "    for j,y in enumerate(ycor):\n",
    "        for i,x in enumerate(xcor):\n",
    "            ops.node(j*len(xcor)+i + 1, *[x,y])\n",
    "    \n",
    "    #fixity definition\n",
    "    ops.fixY(0, *[1,1,1]) #fix all nodes with ycoordinate = 0 (so fixing both node 1 and 2: base nodes)\n",
    "\n",
    "    # nodal masses:\n",
    "    ops.mass(3, *[Mass, 0., 0.])\t# node#, Mx My Mz, Mass=Weight/g, neglect rotational inertia at nodes\n",
    "    ops.mass(4, *[Mass, 0., 0.])\n",
    "    "
   ]
  },
  {
   "cell_type": "code",
   "execution_count": 5,
   "id": "22558728-7a9e-4119-a820-27f2b234c6f0",
   "metadata": {},
   "outputs": [],
   "source": [
    "def getSections():\n",
    "    #geometric transformation define\n",
    "    #performs a linear geometric transformation of beam stiffness and resisting force from the basic system to the global-coordinate system\n",
    "    #it is better practice to keep separate transf tags for beams and columns\n",
    "    colTransfTag = 1\n",
    "    beamTransfTag = 2\n",
    "    colTransfType = 'Linear'  #making this variable to help easy change of linear to pdelta, as only column have pdelta effects\n",
    "    ops.geomTransf(colTransfType, colTransfTag)\n",
    "    ops.geomTransf('Linear', beamTransfTag)\n",
    "    \n",
    "\n",
    "    #material properties\n",
    "    fc = -4. * ksi # CONCRETE Compressive Strength (+Tension, -Compression)\n",
    "    Ec = 57 * ksi * math.sqrt(-fc/psi) # Concrete Elastic Modulus\n",
    "    \n",
    "    #element define\n",
    "    #element('elasticBeamColumn', eleTag, *eleNodes, Area, E_mod, Iz, transfTag, <'-mass', mass>, <'-cMass'>, <'-release', releaseCode>)\n",
    "    ops.element('elasticBeamColumn', 1, *[1,3], ACol, Ec, IzCol, colTransfTag) #col\n",
    "    ops.element('elasticBeamColumn', 2, *[2,4], ACol, Ec, IzCol, colTransfTag)#col\n",
    "    ops.element('elasticBeamColumn', 3, *[3,4], ABeam, Ec, IzBeam, beamTransfTag) #beam"
   ]
  },
  {
   "cell_type": "markdown",
   "id": "0b7d4c83-28a7-45e4-98f4-73b050502281",
   "metadata": {},
   "source": [
    "## Recorder Functions"
   ]
  },
  {
   "cell_type": "code",
   "execution_count": 6,
   "id": "40211b49-d4c9-4c2c-904d-9e14bed1a316",
   "metadata": {},
   "outputs": [],
   "source": [
    "def getRecorders(SectionType, AnalyisName):\n",
    "    ops.recorder(\"Node\", '-file', f\"Outputs/{SectionType}/{AnalyisName}_DispFree.txt\", \n",
    "                 '-time', '-closeOnWrite', '-node', *[3,4],'-dof', *[1,2,3], 'disp')\n",
    "    ops.recorder(\"Node\", '-file', f\"Outputs/{SectionType}/{AnalyisName}_DispSupport.txt\", \n",
    "                 '-time', '-closeOnWrite', '-node', *[1,2],'-dof', *[1,2,3], 'disp')\n",
    "    ops.recorder(\"Node\", '-file', f\"Outputs/{SectionType}/{AnalyisName}_ReactionsSupport.txt\", \n",
    "                 '-time', '-closeOnWrite', '-node', *[1,2],'-dof', *[1,2,3], 'reaction')\n",
    "\n",
    "    #drift recorder: but throws error in openseespy\n",
    "    #ops.recorder(\"drift\", '-file', f\"Outputs/{SectionType}/{AnalyisName}_Drift.txt\", '-time', '-closeOnWrite', '-inode', *[1,2],'-jnode', *[3,4], '-dof', 1, '-perpDirn', 2)\n",
    "    \n",
    "    #recorder Element -file Data/FCol.out -time -ele 1 force\n",
    "    ops.recorder('Element', '-file', f'Outputs/{SectionType}/{AnalyisName}_ForcesColumn.txt', \n",
    "                 '-time', '-closeOnWrite', '-ele', *[1,2], 'globalForce')\n",
    "    ops.recorder('Element', '-file', f'Outputs/{SectionType}/{AnalyisName}_ForcesBeam.txt', \n",
    "                 '-time', '-closeOnWrite', '-ele', 3, 'globalForce')\t\t\t\t# Column section forces, axial and moment, node i\n"
   ]
  },
  {
   "cell_type": "markdown",
   "id": "ba496412-90b8-4f0b-9c91-a815515b92ff",
   "metadata": {},
   "source": [
    "## Analysis Functions"
   ]
  },
  {
   "cell_type": "code",
   "execution_count": 40,
   "id": "2c8dcf58-0ab0-4de7-b935-d5ccf348cf33",
   "metadata": {},
   "outputs": [],
   "source": [
    "linTS = 1 #linear time series tag\n",
    "sineSeries = 2 #uniform excitation tag"
   ]
  },
  {
   "cell_type": "markdown",
   "id": "6d9fccfc-3592-409f-aeee-48c3162e1530",
   "metadata": {},
   "source": [
    "### Gravity Analysis"
   ]
  },
  {
   "cell_type": "code",
   "execution_count": 38,
   "id": "3f51b9cb-ad6a-4271-89fa-39f0b7c1d778",
   "metadata": {},
   "outputs": [],
   "source": [
    "## Analysis Definitions\n",
    "def runGravityAnalysis():\n",
    "    udlBeam = Weight/LBeam\n",
    "    #gravity loads\n",
    "    ops.timeSeries('Linear', linTS)\n",
    "    ops.pattern('Plain', 100, linTS) #patterntype #patterntag #timeseries tag\n",
    "    ops.eleLoad('-ele', 3, '-type', '-beamUniform', -1* udlBeam)\n",
    "\n",
    "\n",
    "    #setting gravity analysis parameters and functions\n",
    "    ops.constraints('Plain')\n",
    "    ops.numberer('Plain')\n",
    "    ops.system('BandGeneral')\n",
    "    \n",
    "    tol = 1.0e-8\n",
    "    numIter = 6\n",
    "    ops.test('NormDispIncr', tol, numIter) #test NormDispIncr $tol $iter <$pFlag> <$nType>\n",
    "    ops.algorithm('Newton')\n",
    "\n",
    "    NStepGravity = 10\n",
    "    DGravity = 1.0 / NStepGravity\n",
    "    ops.integrator('LoadControl', DGravity)\n",
    "    ops.analysis('Static')\n",
    "\n",
    "    ops.record() #to force recorder to record initial state of the model regarding gravity loads\n",
    "    ops.analyze(NStepGravity)"
   ]
  },
  {
   "cell_type": "markdown",
   "id": "3a770bb1-f706-4f91-b243-0bbbbbcfd341",
   "metadata": {},
   "source": [
    "### Static Pushover"
   ]
  },
  {
   "cell_type": "code",
   "execution_count": 39,
   "id": "c2203436-d115-42fb-8cbc-2d234f73ac0c",
   "metadata": {},
   "outputs": [],
   "source": [
    "def runStaticPushover():\n",
    "    #since static pushover is performed after gravity analysis--- set gravity load constant and time to 0\n",
    "    ops.loadConst('-time', 0)\n",
    "    \n",
    "    #structure parameters\n",
    "    ControlNode = 3\n",
    "    ControlNodeDof = 1\n",
    "    \n",
    "    #analysis parameters\n",
    "    Dmax = .1*LCol # maximum displacement of pushover. push to 10% drift.\n",
    "    Dincr = 0.001*LCol  #increment in displacement for pushover\n",
    "    NStepPushover = int(Dmax/Dincr)\n",
    "    \n",
    "    #incase we want to change test type due to convergence failure\n",
    "    testTypeStatic = 'EnergyIncr'\n",
    "    algorithmTypeStatic = 'Newton'\n",
    "    \n",
    "    tolStatic = 1.0e-8   \n",
    "    maxNumIterStatic = 6\n",
    "    maxNumIterConvergeStatic = 2000 # for improved-convergence procedure\n",
    "    \n",
    "    # define the lateral load as a proportion of the weight so that the pseudo time equals the lateral-load coefficient when using linear load pattern\n",
    "    Hload = Weight/2\n",
    "    ops.pattern('Plain', 200, linTS) #patterntype #patterntag #timeseries tag\n",
    "    ops.load(3, *[Hload, 0., 0.])\n",
    "    ops.load(4, *[Hload, 0., 0.])\n",
    "    \n",
    "    #setting gravity analysis parameters and functions\n",
    "    ops.constraints('Plain')\n",
    "    ops.numberer('RCM')\n",
    "    ops.system('BandGeneral')\n",
    "    \n",
    "    ops.test(testTypeStatic, tolStatic, maxNumIterStatic) #test NormDispIncr $tol $iter <$pFlag> <$nType>\n",
    "    ops.algorithm(algorithmTypeStatic)\n",
    "    \n",
    "    NStepGravity = 10\n",
    "    DGravity = 1.0 / NStepGravity\n",
    "    ops.integrator('DisplacementControl', ControlNode, ControlNodeDof, Dincr)\n",
    "    ops.analysis('Static')\n",
    "\n",
    "    ops.record() #to force recorder to record initial state of the model regarding gravity loads\n",
    "    status = ops.analyze(NStepPushover)\n",
    "\n",
    "    #handling well if the analysis fails:\n",
    "    if status != 0:\n",
    "        print(\"Analysis Failed ! Trying other methods ...\")\n",
    "        DStep = 0\n",
    "        ok = 0\n",
    "        while DStep<=1 & status==0:\n",
    "            ControlDisp = ops.nodeDisp(ControlNode, ControlNodeDof)\n",
    "            DStep = ControlDisp / Dmax\n",
    "            status = ops.analyze(1)\n",
    "\n",
    "            if status != 0:\n",
    "                print(\"Trying Newton with Initial Tangent\")\n",
    "                ops.test('NormDispIncr', tol, 2000)\n",
    "                ops.algorithm('Newton', '-initial')\n",
    "                status = ops.analyze(1)\n",
    "                ops.test(testTypeStatic, tolStatic, maxNumIterStatic)\n",
    "                \n",
    "            if status !=0:\n",
    "                print(\"Trying Bryoden\")\n",
    "                ops.algorithm('Bryoden', 8)\n",
    "                status = ops.analyze(1)\n",
    "                ops.algorithm(algorithmTypeStatic)\n",
    "                \n",
    "            if status !=0:\n",
    "                print(\"Trying Newton with Line Search\")\n",
    "                ops.algorithm('NewtonLineSearch', 0.8)\n",
    "                status = ops.analyze(1)\n",
    "                ops.algorithm(algorithmTypeStatic)\n",
    "    if status != 0:\n",
    "        print(f\"Problem! Pushover Analysis\\t Node={ControlNode}, Dof={ControlNodeDof}, Disp={ops.nodeDisp(ControlNode, ControlNodeDof)}\")\n",
    "    else:\n",
    "        print(f\"Success! Pushover Analysis\\t Node={ControlNode}, Dof={ControlNodeDof}, Disp={ops.nodeDisp(ControlNode, ControlNodeDof)}\")"
   ]
  },
  {
   "cell_type": "markdown",
   "id": "16caac7f-40e3-44cb-978e-9a46c95473d4",
   "metadata": {},
   "source": [
    "### Dynamic Uniform Sinewave ground motion"
   ]
  },
  {
   "cell_type": "code",
   "execution_count": 43,
   "id": "53c95d9b-4fe0-4351-b659-25bf722e06f5",
   "metadata": {},
   "outputs": [],
   "source": [
    "\n",
    "\n",
    "# set up ground motion analysis parameters\n",
    "DtAnalysis = 0.01*sec\n",
    "TmaxAnalysis = 10.*sec\n",
    "\n",
    "#some other dynamic analysis variables\n",
    "algorithmTypeDynamic = 'ModifiedNewton'\n",
    "integratorTypeDynamic = 'Newmark'\n",
    "NewmarkGamma = 0.5\n",
    "NewmarkBeta = 0.25\n",
    "\n",
    "testTypeDynamic = 'EnergyIncr'\n",
    "tolDynamic = 1.0e-8\n",
    "maxNumIterDynamic = 10\n",
    "maxNumIterConvergeDynamic = 2000\n",
    "\n",
    "\n",
    "def runUniformSineWaveGM():\n",
    "    ops.loadConst('-time', 0)\n",
    "    \n",
    "    ops.constraints('Transformation')\n",
    "    ops.numberer('RCM')\n",
    "    ops.system('BandGeneral')\n",
    "    ops.test(testTypeDynamic, tolDynamic, maxNumIterDynamic)\n",
    "    ops.algorithm(algorithmTypeDynamic)\n",
    "    ops.integrator(integratorTypeDynamic, NewmarkGamma, NewmarkBeta)\n",
    "    ops.analysis('Transient')\n",
    "    \n",
    "    # define Rayleigh Damping\n",
    "    xDamp = 0.2  #2% damping ratio\n",
    "    lambda_ = ops.eigen(1)\n",
    "    omega = math.pow(lambda_[0], 0.5)\n",
    "    alphaM = 0.\n",
    "    betaKcurr = 0.\n",
    "    betaKcomm = 2.*xDamp/omega\n",
    "    betaKinit = 0.\n",
    "    ops.rayleigh(alphaM, betaKcurr, betaKinit, betaKcomm)  #rayleigh damping\n",
    "    \n",
    "    #perform dynamic ground motion analysis\n",
    "    # Uniform Sine-Wave ground motion (uniform acceleration input at all support nodes)\n",
    "    GMdirection = 1\n",
    "    GMSineAccAmpl = 0.5*g\n",
    "    TPeriodSine = .35*sec\n",
    "    DurationSine = 3.0*sec\n",
    "    #pattern('UniformExcitation', patternTag, dir, '-disp', dispSeriesTag, '-vel', velSeriesTag, '-accel', accelSeriesTag, '-vel0', vel0, '-fact', fact)\n",
    "    patternTag = 400\n",
    "    DtGround = 0.005*sec\n",
    "    omegaSine = 2*np.pi/TPeriodSine\n",
    "    vel0 = GMSineAccAmpl*(-1)/omegaSine\n",
    "    ops.timeSeries('Trig',sineSeries, 0, DurationSine, TPeriodSine, '-factor', GMSineAccAmpl)\n",
    "    ops.pattern('UniformExcitation', patternTag, GMdirection, '-accel', sineSeries, '-vel0', vel0)\n",
    "\n",
    "    Nsteps = int(TmaxAnalysis/DtAnalysis)\n",
    "    status = ops.analyze(Nsteps, DtAnalysis)\n",
    "    \n",
    "    \n",
    "    \n",
    "    \n",
    "    \n"
   ]
  },
  {
   "cell_type": "code",
   "execution_count": null,
   "id": "f0321114-8ab9-40a6-ac8b-36e101ae8ad5",
   "metadata": {},
   "outputs": [],
   "source": []
  },
  {
   "cell_type": "code",
   "execution_count": 44,
   "id": "b1dd721e-2b6a-4e99-9b88-56694d80ec55",
   "metadata": {},
   "outputs": [],
   "source": [
    "getModel()\n",
    "getSections()\n",
    "getRecorders('elastic', 'Gravity')\n",
    "runGravityAnalysis()"
   ]
  },
  {
   "cell_type": "code",
   "execution_count": 45,
   "id": "87cb117d-56ad-4237-b26d-dcdf3b30e5ea",
   "metadata": {},
   "outputs": [
    {
     "data": {
      "text/plain": [
       "<Axes: >"
      ]
     },
     "execution_count": 45,
     "metadata": {},
     "output_type": "execute_result"
    },
    {
     "data": {
      "image/png": "[encoded data removed]",
      "text/plain": [
       "<Figure size 640x480 with 1 Axes>"
      ]
     },
     "metadata": {},
     "output_type": "display_data"
    }
   ],
   "source": [
    "ovs.plot_loads_2d()"
   ]
  },
  {
   "cell_type": "code",
   "execution_count": 46,
   "id": "0dac835f-e8e7-4f40-ba6a-d7d452256361",
   "metadata": {},
   "outputs": [
    {
     "data": {
      "text/plain": [
       "695224.2063492063"
      ]
     },
     "execution_count": 46,
     "metadata": {},
     "output_type": "execute_result"
    }
   ],
   "source": [
    "Weight / LBeam / 2"
   ]
  },
  {
   "cell_type": "code",
   "execution_count": 47,
   "id": "afc4f672-8ea4-4b87-8785-50105fe5484a",
   "metadata": {},
   "outputs": [
    {
     "name": "stderr",
     "output_type": "stream",
     "text": [
      "WARNING can't set handler after analysis is created\n",
      "WARNING can't set transient integrator in static analysis\n",
      "WARNING analysis Transient - no Integrator specified, \n",
      " TransientIntegrator default will be used\n"
     ]
    }
   ],
   "source": [
    "getModel()\n",
    "getSections()\n",
    "runGravityAnalysis()\n",
    "getRecorders('elastic', 'Uniform_Sine_GM')\n",
    "runUniformSineWaveGM()\n",
    "\n"
   ]
  },
  {
   "cell_type": "code",
   "execution_count": 48,
   "id": "a58adac8-ca2a-4e41-9e46-f260422c5323",
   "metadata": {},
   "outputs": [
    {
     "data": {
      "text/plain": [
       "160.69381044512602"
      ]
     },
     "execution_count": 48,
     "metadata": {},
     "output_type": "execute_result"
    },
    {
     "data": {
      "image/png": "[encoded data removed]",
      "text/plain": [
       "<Figure size 640x480 with 1 Axes>"
      ]
     },
     "metadata": {},
     "output_type": "display_data"
    }
   ],
   "source": [
    "ovs.plot_defo()"
   ]
  },
  {
   "cell_type": "code",
   "execution_count": 23,
   "id": "764a59f0-4465-40e6-9958-3ef0224d9966",
   "metadata": {},
   "outputs": [],
   "source": [
    "disps = np.loadtxt(\"Outputs/elastic/Pushover_DispFree.txt\")\n",
    "forces = np.loadtxt(\"Outputs/elastic/Pushover_ReactionsSupport.txt\")"
   ]
  },
  {
   "cell_type": "code",
   "execution_count": 30,
   "id": "6aee9ce0-aa0e-4514-827c-98dcc96ab4a8",
   "metadata": {},
   "outputs": [],
   "source": [
    "disp4 = disps[:, 4:] #displacement at node 4\n",
    "shear2 = forces[:, 4:]"
   ]
  },
  {
   "cell_type": "code",
   "execution_count": 33,
   "id": "b6eb474a-413d-4e77-b028-f72f652069de",
   "metadata": {},
   "outputs": [
    {
     "data": {
      "text/plain": [
       "[<matplotlib.lines.Line2D at 0x11bad3bef90>]"
      ]
     },
     "execution_count": 33,
     "metadata": {},
     "output_type": "execute_result"
    },
    {
     "data": {
      "image/png": "[encoded data removed]",
      "text/plain": [
       "<Figure size 640x480 with 1 Axes>"
      ]
     },
     "metadata": {},
     "output_type": "display_data"
    }
   ],
   "source": [
    "plt.plot(shear2[:,1], -disp4[:, 1])"
   ]
  },
  {
   "cell_type": "code",
   "execution_count": null,
   "id": "415b071b-ad45-4d3f-88ef-6d29f0d56508",
   "metadata": {},
   "outputs": [],
   "source": []
  }
 ],
 "metadata": {
  "kernelspec": {
   "display_name": "Python 3 (ipykernel)",
   "language": "python",
   "name": "python3"
  },
  "language_info": {
   "codemirror_mode": {
    "name": "ipython",
    "version": 3
   },
   "file_extension": ".py",
   "mimetype": "text/x-python",
   "name": "python",
   "nbconvert_exporter": "python",
   "pygments_lexer": "ipython3",
   "version": "3.11.9"
  },
  "widgets": {
   "application/vnd.jupyter.widget-state+json": {
    "state": {},
    "version_major": 2,
    "version_minor": 0
   }
  }
 },
 "nbformat": 4,
 "nbformat_minor": 5
}
