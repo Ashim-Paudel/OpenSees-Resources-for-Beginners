{
 "cells": [
  {
   "attachments": {
    "02c7c4cc-4b2f-44dd-b03f-39a51929e699.png": {
     "image/png": "[encoded data removed]"
    }
   },
   "cell_type": "markdown",
   "id": "5894a0e5-a5e1-40aa-898b-4bf820ed5c75",
   "metadata": {
    "panel-layout": {
     "height": 80.28125,
     "visible": true,
     "width": 100
    }
   },
   "source": [
    "**Question Link** https://opensees.berkeley.edu/wiki/index.php/Basic_Truss_Example\n",
    "\n",
    "![image.png](attachment:02c7c4cc-4b2f-44dd-b03f-39a51929e699.png)"
   ]
  },
  {
   "cell_type": "markdown",
   "id": "12cfe5c4-115d-455f-8059-032dd6f57cee",
   "metadata": {
    "panel-layout": {
     "height": 50.796875,
     "visible": true,
     "width": 100
    }
   },
   "source": [
    "## Units Conversion"
   ]
  },
  {
   "cell_type": "code",
   "execution_count": 54,
   "id": "a2261c93-c02b-4477-ab85-f20d48634608",
   "metadata": {},
   "outputs": [],
   "source": [
    "#length conversion\n",
    "m = 1.0\n",
    "inch = m/39.37\n",
    "ft = 12*inch \n",
    "\n",
    "#area conversion\n",
    "sqinch = inch**2\n",
    "\n",
    "#ksi to pa\n",
    "pa = 1.0\n",
    "kpa = 1000*pa\n",
    "ksi = 6.89*1000*kpa\n",
    "\n",
    "#kip to kN\n",
    "N = 1.0\n",
    "kN = 1000 * N\n",
    "kip = 4.45 * kN\n",
    "\n"
   ]
  },
  {
   "cell_type": "markdown",
   "id": "5b678a16-75d3-4d57-a5ff-45992fe60e4b",
   "metadata": {
    "panel-layout": {
     "height": 50.796875,
     "visible": true,
     "width": 100
    }
   },
   "source": [
    "## Model Variables"
   ]
  },
  {
   "cell_type": "code",
   "execution_count": 25,
   "id": "04e8b382-18bd-4720-8391-b66023720969",
   "metadata": {},
   "outputs": [],
   "source": [
    "# nodes position\n",
    "n1 = (0,0)\n",
    "n2 = (12*ft, 0)\n",
    "n3 = (14*ft, 0)\n",
    "n4 = (6*ft, 8*ft)\n",
    "\n",
    "nodes_coor = [n1, n2, n3, n4] "
   ]
  },
  {
   "cell_type": "code",
   "execution_count": 26,
   "id": "58619aca-2926-4012-ad7c-2dcf87a59dcf",
   "metadata": {},
   "outputs": [],
   "source": [
    "#areas:\n",
    "A1 = 10*sqinch\n",
    "A2 = A3 = 5*sqinch"
   ]
  },
  {
   "cell_type": "code",
   "execution_count": 27,
   "id": "1924ce8c-1df5-4bbe-a4e1-51140419dfcc",
   "metadata": {},
   "outputs": [],
   "source": [
    "#loads\n",
    "px = 100 * kip\n",
    "py = - 50 * kip"
   ]
  },
  {
   "cell_type": "code",
   "execution_count": 28,
   "id": "fa7e5a4d-ef13-4e02-b1c2-227a9621c358",
   "metadata": {},
   "outputs": [],
   "source": [
    "E = 3000 * ksi"
   ]
  },
  {
   "cell_type": "markdown",
   "id": "e7218ec8-d54b-4324-907b-414ead273e85",
   "metadata": {
    "panel-layout": {
     "height": 50.796875,
     "visible": true,
     "width": 100
    }
   },
   "source": [
    "## importing packages"
   ]
  },
  {
   "cell_type": "code",
   "execution_count": 1,
   "id": "3cc1cce8-8677-4ce7-947f-deccf06e04e8",
   "metadata": {},
   "outputs": [],
   "source": [
    "from openseespy import opensees as ops\n",
    "import opsvis as ovs\n",
    "import matplotlib.pyplot as plt"
   ]
  },
  {
   "cell_type": "markdown",
   "id": "cb8e51f7-f745-4e44-8348-c800f606e1f7",
   "metadata": {
    "panel-layout": {
     "height": 50.796875,
     "visible": true,
     "width": 100
    }
   },
   "source": [
    "## Model definition"
   ]
  },
  {
   "cell_type": "code",
   "execution_count": 7,
   "id": "64190cf3-3716-4640-bdd7-52500ecb8668",
   "metadata": {
    "panel-layout": {
     "height": 0,
     "visible": true,
     "width": 100
    }
   },
   "outputs": [],
   "source": [
    "ops.wipe()"
   ]
  },
  {
   "cell_type": "code",
   "execution_count": 8,
   "id": "ab7e24e2-c356-4f0f-b937-186e9f0319ac",
   "metadata": {
    "panel-layout": {
     "height": 0,
     "visible": true,
     "width": 100
    }
   },
   "outputs": [],
   "source": [
    "ops.model(\"BasicBuilder\", '-ndm', 2, '-ndf', 3)"
   ]
  },
  {
   "cell_type": "code",
   "execution_count": 9,
   "id": "606ab14b-b988-4ccc-a388-214114e55b5b",
   "metadata": {},
   "outputs": [],
   "source": [
    "def getNodes(node_cor_list, plot=False):\n",
    "    ops.wipe()\n",
    "    ops.model(\"BasicBuilder\", '-ndm', 2, '-ndf', 3)\n",
    "\n",
    "    for (node_i, node_cor) in enumerate(node_cor_list):\n",
    "        ops.node(node_i+1, *[node_cor[0], node_cor[1], 0])\n",
    "        #print(f\"Node Created: Tag={node_i+1}\\tLoc={node_cor}\")\n",
    "\n",
    "    for (node_i, node_cor) in enumerate(node_cor_list[:-1]):\n",
    "        ops.fix(node_i+1, 1, 1, 1)\n",
    "\n",
    "    ops.fix(4, 0, 0, 1)\n",
    "\n",
    "    if plot:\n",
    "        ovs.plot_model()\n",
    "        plt.title(\"Nodes\")"
   ]
  },
  {
   "cell_type": "code",
   "execution_count": 11,
   "id": "ca7dffdf-9917-47b1-8923-e01da586c044",
   "metadata": {},
   "outputs": [],
   "source": [
    "def getElements(E, A1, A2, A3, plot=False):\n",
    "    #uniaxialMaterial(matType, matTag, *matArgs)\n",
    "    ops.uniaxialMaterial('Elastic', 1, E)\n",
    "\n",
    "    #element('Truss', eleTag, *eleNodes, A, matTag, <'-rho', rho>, <'-cMass', cFlag>, <'-doRayleigh', rFlag>)\n",
    "    #ops.element('Truss', element_tag = 1, nodes=*[1,4],Area=A, mat_tag=1)\n",
    "    ops.element('Truss', 1, *[1,4], A1, 1)\n",
    "    ops.element('Truss', 2, *[2,4], A2, 1)\n",
    "    ops.element('Truss', 3, *[3,4], A3, 1)\n",
    "\n",
    "    if plot:\n",
    "        ovs.plot_model()\n",
    "        plt.title(\"Model with elements\")\n",
    "\n",
    "\n",
    "    "
   ]
  },
  {
   "cell_type": "code",
   "execution_count": 34,
   "id": "28fe0f71-198b-437f-9626-d848041f70ef",
   "metadata": {},
   "outputs": [],
   "source": [
    "def getAnalysis(Px, Py, plot=False):\n",
    "    #time series type, ts tag\n",
    "    ops.timeSeries('Linear', 1)\n",
    "    #pattern type, patterntag, \n",
    "    ops.pattern('Plain', 1, 1)\n",
    "    #load $nodeTag (ndf $LoadValues)\n",
    "    ops.load(4, *[Px, Py, 0])\n",
    "    \n",
    "    ops.system(\"BandSPD\")\n",
    "    # create DOF number\n",
    "    ops.numberer(\"RCM\")\n",
    "    # create constraint handler\n",
    "    ops.constraints(\"Plain\")\n",
    "    # create integrator\n",
    "    ops.integrator(\"LoadControl\", 1.0)\n",
    "    # create algorithm\n",
    "    ops.algorithm(\"Linear\")\n",
    "    # create analysis object\n",
    "    ops.analysis(\"Static\")\n",
    "    # perform the analysis\n",
    "    ops.analyze(1)\n",
    "\n",
    "    if plot:\n",
    "        fig, ax = plt.subplots(1, 2, figsize=(10,4))\n",
    "        ovs.plot_loads_2d(ax=ax[0])\n",
    "        ovs.plot_defo(ax=ax[1])\n",
    "        ax[0].set_title(\"Undeformed Model\")\n",
    "        ax[1].set_title(\"Deformed Model\")\n",
    "        plt.suptitle(\"Undeformed and Deformed Models\")\n",
    "        "
   ]
  },
  {
   "cell_type": "code",
   "execution_count": 93,
   "id": "64dbddef",
   "metadata": {},
   "outputs": [],
   "source": [
    "def trialAnalysis(Px, Py, plot=False):\n",
    "    #time series type, ts tag\n",
    "    ops.timeSeries('Linear', 1)\n",
    "    #pattern type, patterntag, \n",
    "    ops.pattern('Plain', 1, 1)\n",
    "    #load $nodeTag (ndf $LoadValues)\n",
    "    ops.load(4, *[Px, Py, 0])\n",
    "    \n",
    "    ops.system(\"ProfileSPD\")\n",
    "    # create DOF number\n",
    "    ops.numberer(\"RCM\")\n",
    "    # create constraint handler\n",
    "    ops.constraints(\"Plain\")\n",
    "    # create integrator\n",
    "    ops.integrator(\"LoadControl\", 1.0)\n",
    "    # create algorithm\n",
    "    ops.algorithm(\"Newton\")\n",
    "    # create analysis object\n",
    "    ops.analysis(\"Static\")\n",
    "    # perform the analysis\n",
    "    ops.analyze(1)\n",
    "\n",
    "    if plot:\n",
    "        fig, ax = plt.subplots(1, 2, figsize=(10,4))\n",
    "        ovs.plot_loads_2d(ax=ax[0])\n",
    "        ovs.plot_defo(ax=ax[1])\n",
    "        ax[0].set_title(\"Undeformed Model\")\n",
    "        ax[1].set_title(\"Deformed Model\")\n",
    "        plt.suptitle(\"Undeformed and Deformed Models\")\n",
    "        "
   ]
  },
  {
   "cell_type": "markdown",
   "id": "dffdb413-08a4-4baf-947d-df7ab3ae6ddc",
   "metadata": {},
   "source": [
    "## Gravity Analysis"
   ]
  },
  {
   "cell_type": "code",
   "execution_count": 12,
   "id": "8dd91033-3ad6-4a1e-9da1-e1794c5bb10e",
   "metadata": {},
   "outputs": [
    {
     "ename": "NameError",
     "evalue": "name 'nodes_coor' is not defined",
     "output_type": "error",
     "traceback": [
      "\u001b[1;31m---------------------------------------------------------------------------\u001b[0m",
      "\u001b[1;31mNameError\u001b[0m                                 Traceback (most recent call last)",
      "Cell \u001b[1;32mIn[12], line 1\u001b[0m\n\u001b[1;32m----> 1\u001b[0m getNodes(\u001b[43mnodes_coor\u001b[49m)\n",
      "\u001b[1;31mNameError\u001b[0m: name 'nodes_coor' is not defined"
     ]
    }
   ],
   "source": [
    "getNodes(nodes_coor)"
   ]
  },
  {
   "cell_type": "code",
   "execution_count": 152,
   "id": "a1d541a7-e2da-4244-a176-8de4a5b94b95",
   "metadata": {},
   "outputs": [],
   "source": [
    "getElements(E, A1, A2, A3)"
   ]
  },
  {
   "cell_type": "code",
   "execution_count": 153,
   "id": "18d5aaea-907c-4c30-93dc-03a8d29c270d",
   "metadata": {},
   "outputs": [
    {
     "data": {
      "image/png": "[encoded data removed]",
      "text/plain": [
       "<Figure size 1000x400 with 2 Axes>"
      ]
     },
     "metadata": {},
     "output_type": "display_data"
    }
   ],
   "source": [
    "#for gravity analysis px = 0, py exists\n",
    "getAnalysis(0, py, True)"
   ]
  },
  {
   "cell_type": "code",
   "execution_count": 154,
   "id": "e014b73a-23e6-4815-ae78-d313926c8085",
   "metadata": {},
   "outputs": [
    {
     "data": {
      "text/plain": [
       "[0.0, 0.0, 0.0]"
      ]
     },
     "execution_count": 154,
     "metadata": {},
     "output_type": "execute_result"
    }
   ],
   "source": [
    "ops.nodeReaction(3)"
   ]
  },
  {
   "cell_type": "code",
   "execution_count": 156,
   "id": "d5b7cb28-981e-42bc-b789-c9ba9df4259f",
   "metadata": {
    "scrolled": true
   },
   "outputs": [
    {
     "data": {
      "text/plain": [
       "([88773.76592669374, 118365.02123559167, 0.0],\n",
       " [-46083.638513143764, 61444.85135085836, 0.0],\n",
       " [-42690.12741354998, 42690.12741354998, 0.0])"
      ]
     },
     "execution_count": 156,
     "metadata": {},
     "output_type": "execute_result"
    }
   ],
   "source": [
    "ops.reactions()\n",
    "ops.nodeReaction(1), ops.nodeReaction(2), ops.nodeReaction(3) "
   ]
  },
  {
   "cell_type": "code",
   "execution_count": 157,
   "id": "976b82c5-3c21-44c2-b119-eef37c965952",
   "metadata": {},
   "outputs": [
    {
     "data": {
      "text/plain": [
       "[0.00010772681760732579, -0.0043079723683993034, 0.0]"
      ]
     },
     "execution_count": 157,
     "metadata": {},
     "output_type": "execute_result"
    }
   ],
   "source": [
    "ops.nodeDisp(4)"
   ]
  },
  {
   "cell_type": "markdown",
   "id": "e20114ee-c8e5-40b5-9d02-ad73aed4ebe1",
   "metadata": {},
   "source": [
    "### Pushover Analysis"
   ]
  },
  {
   "cell_type": "code",
   "execution_count": 134,
   "id": "0c5f384c-1e99-48b8-91c2-b7c62dc7e9d9",
   "metadata": {},
   "outputs": [
    {
     "name": "stdout",
     "output_type": "stream",
     "text": [
      "Node Created: Tag=1\tLoc=(0, 0)\n",
      "Node Created: Tag=2\tLoc=(3.6575999999999995, 0)\n",
      "Node Created: Tag=3\tLoc=(4.267199999999999, 0)\n",
      "Node Created: Tag=4\tLoc=(1.8287999999999998, 2.4383999999999997)\n"
     ]
    },
    {
     "data": {
      "image/png": "[encoded data removed]",
      "text/plain": [
       "<Figure size 640x480 with 1 Axes>"
      ]
     },
     "metadata": {},
     "output_type": "display_data"
    }
   ],
   "source": [
    "getNodes(nodes_coor, True)"
   ]
  },
  {
   "cell_type": "code",
   "execution_count": 135,
   "id": "a80f930d-2339-4d7d-98a7-dab6093b3958",
   "metadata": {},
   "outputs": [
    {
     "data": {
      "image/png": "[encoded data removed]",
      "text/plain": [
       "<Figure size 640x480 with 1 Axes>"
      ]
     },
     "metadata": {},
     "output_type": "display_data"
    }
   ],
   "source": [
    "getElements(E, A1, A2, A3, True)"
   ]
  },
  {
   "cell_type": "code",
   "execution_count": 136,
   "id": "1ab57606-e49c-499b-8697-e145f9bc80e0",
   "metadata": {},
   "outputs": [
    {
     "data": {
      "image/png": "[encoded data removed]",
      "text/plain": [
       "<Figure size 1000x400 with 2 Axes>"
      ]
     },
     "metadata": {},
     "output_type": "display_data"
    }
   ],
   "source": [
    "getAnalysis(px, py, True)"
   ]
  },
  {
   "cell_type": "code",
   "execution_count": 137,
   "id": "ac5d301b-3a7d-4158-b704-bb0f36bebf3e",
   "metadata": {},
   "outputs": [],
   "source": [
    "#Returns the current displacement at a specified node for specified DoF\n",
    "#if no DoF is specified, returns displacement at all DoF\n",
    "\n",
    "ux, uy, uz = ops.nodeDisp(4, 1), ops.nodeDisp(4, 2),ops.nodeDisp(4, 3)\n"
   ]
  },
  {
   "cell_type": "code",
   "execution_count": 138,
   "id": "5bcfb353-8b55-4acb-81e3-0b5fdee25996",
   "metadata": {},
   "outputs": [
    {
     "data": {
      "text/plain": [
       "(0.01347903990856692, -0.004523426003613955)"
      ]
     },
     "execution_count": 138,
     "metadata": {},
     "output_type": "execute_result"
    }
   ],
   "source": [
    "ux, uy"
   ]
  },
  {
   "cell_type": "code",
   "execution_count": 139,
   "id": "08231373-3879-4f7c-929c-d997cc578322",
   "metadata": {},
   "outputs": [
    {
     "name": "stdout",
     "output_type": "stream",
     "text": [
      "Passed!\n"
     ]
    }
   ],
   "source": [
    "if abs(ux-0.53009277713228375450*inch)<1e-4 and abs(uy+0.17789363846931768864*inch)<1e-4:\n",
    "    print(\"Passed!\")\n",
    "else:\n",
    "    print(\"Failed!\")"
   ]
  },
  {
   "cell_type": "code",
   "execution_count": 140,
   "id": "1107823b-161c-4a8d-919e-961bebac1466",
   "metadata": {},
   "outputs": [],
   "source": [
    "ops.reactions()  #use this to calculate reactions at nodes"
   ]
  },
  {
   "cell_type": "code",
   "execution_count": 145,
   "id": "47e894b5-4032-456c-9292-e59e6a935f5a",
   "metadata": {},
   "outputs": [
    {
     "data": {
      "text/plain": [
       "([-117306.95429886396, -156409.2723984853, 0.0],\n",
       " [-153648.68009204767, 204864.9067893969, 0.0],\n",
       " [-174044.36560908836, 174044.3656090884, 0.0])"
      ]
     },
     "execution_count": 145,
     "metadata": {},
     "output_type": "execute_result"
    }
   ],
   "source": [
    "r1, r2, r3 = ops.nodeReaction(1), ops.nodeReaction(2), ops.nodeReaction(3)\n",
    "r1, r2, r3"
   ]
  },
  {
   "cell_type": "code",
   "execution_count": 147,
   "id": "1c9126a2-7fff-421f-a590-9090ba913a9d",
   "metadata": {},
   "outputs": [
    {
     "data": {
      "text/plain": [
       "0.0"
      ]
     },
     "execution_count": 147,
     "metadata": {},
     "output_type": "execute_result"
    }
   ],
   "source": [
    "r1[0]+r2[0]+r3[0]+px"
   ]
  },
  {
   "cell_type": "code",
   "execution_count": 149,
   "id": "223a05a6-d45c-49fa-9cdb-7bd03d3ea3e4",
   "metadata": {},
   "outputs": [
    {
     "data": {
      "text/plain": [
       "-174044.36560908842"
      ]
     },
     "execution_count": 149,
     "metadata": {},
     "output_type": "execute_result"
    }
   ],
   "source": [
    "r1[1]+r2[1]+py"
   ]
  },
  {
   "cell_type": "markdown",
   "id": "1974cc21-828d-452e-8b1b-04bd7bad9603",
   "metadata": {},
   "source": [
    " "
   ]
  },
  {
   "cell_type": "markdown",
   "id": "5736bb55-fc41-456b-801b-4385159eb6fe",
   "metadata": {},
   "source": [
    "## Optimization Codes"
   ]
  },
  {
   "cell_type": "markdown",
   "id": "9213a137-b272-4be1-9899-a79814674a34",
   "metadata": {},
   "source": [
    "#### Optimizing area for targeted dispalcement\n",
    "\n",
    "Trying to find the values of A1 and A2 that will yield displacement_x in node 4 near to 0.02m"
   ]
  },
  {
   "cell_type": "code",
   "execution_count": 158,
   "id": "ff6c8fd5-3ad8-4e74-b1d0-4f5781c8a844",
   "metadata": {},
   "outputs": [],
   "source": [
    "import numpy as np"
   ]
  },
  {
   "cell_type": "code",
   "execution_count": 230,
   "id": "2cff83eb-b1e0-4348-8f05-a2781145982f",
   "metadata": {},
   "outputs": [],
   "source": [
    "#target displacement\n",
    "#only gravity analysis\n",
    "\n",
    "target_dispx = 0.02 * m\n",
    "\n",
    "area_low = 1* sqinch\n",
    "area_high = 20* sqinch\n",
    "\n",
    "area_series = np.linspace(area_low, area_high, 20)\n",
    "\n",
    "output_disp = np.zeros((20,20))\n",
    "Area_vals = np.zeros((20,20))"
   ]
  },
  {
   "cell_type": "code",
   "execution_count": 254,
   "id": "8de41f8f-5691-4a51-a2e4-4688fe836f48",
   "metadata": {},
   "outputs": [
    {
     "name": "stdout",
     "output_type": "stream",
     "text": [
      "1.0 1.0 0.08455593027196338\n",
      "1.0 1.9999999999999996 0.05918937163468934\n",
      "1.0 2.9999999999999996 0.05051731728400664\n",
      "1.0 3.999999999999999 0.04602352314149744\n",
      "1.0 4.999999999999999 0.0432046006690788\n",
      "1.0 5.999999999999999 0.04122597601951027\n",
      "1.0 6.999999999999999 0.039729883942303916\n",
      "1.0 7.999999999999998 0.038537366048565384\n",
      "1.0 8.999999999999998 0.03754893672310883\n",
      "1.0 9.999999999999998 0.03670484934074189\n",
      "1.0 10.999999999999998 0.035967035328859816\n",
      "1.0 11.999999999999998 0.03531007358985274\n",
      "1.0 13.0 0.03471632778805009\n",
      "1.0 14.0 0.034173167574262676\n",
      "1.0 14.999999999999998 0.033671301248338344\n",
      "1.0 15.999999999999996 0.033203733609642974\n",
      "1.0 17.0 0.03276509156869385\n",
      "1.0 18.0 0.032351174504843525\n",
      "1.0 18.999999999999996 0.03195864657160337\n",
      "1.0 20.0 0.031584821270383846\n",
      "1.9999999999999996 1.0 0.06739492996230599\n",
      "1.9999999999999996 1.9999999999999996 0.042277965135981706\n",
      "1.9999999999999996 2.9999999999999996 0.03384990802560176\n",
      "1.9999999999999996 3.999999999999999 0.029594685817344677\n",
      "1.9999999999999996 4.999999999999999 0.027009074561941047\n",
      "1.9999999999999996 5.999999999999999 0.02525865864200333\n",
      "1.9999999999999996 6.999999999999999 0.02398582497702917\n",
      "1.9999999999999996 7.999999999999998 0.023011761570748725\n",
      "1.9999999999999996 8.999999999999998 0.02223712369021855\n",
      "1.9999999999999996 9.999999999999998 0.02160230033453939\n",
      "1.9999999999999996 10.999999999999998 0.021069353536251393\n",
      "1.9999999999999996 11.999999999999998 0.020612988009755126\n",
      "1.9999999999999996 13.0 0.02021568865227458\n",
      "1.9999999999999996 14.0 0.019864941971151975\n",
      "1.9999999999999996 14.999999999999998 0.019551568938574775\n",
      "1.9999999999999996 15.999999999999996 0.019268683024282682\n",
      "1.9999999999999996 17.0 0.019011015980072543\n",
      "1.9999999999999996 18.0 0.018774468361554414\n",
      "1.9999999999999996 18.999999999999996 0.0185558019892609\n",
      "1.9999999999999996 20.0 0.01835242467037093\n",
      "2.9999999999999996 1.0 0.06163701229340223\n",
      "2.9999999999999996 1.9999999999999996 0.03656699699118976\n",
      "2.9999999999999996 2.9999999999999996 0.028185310090654465\n",
      "2.9999999999999996 3.999999999999999 0.023975888387221048\n",
      "2.9999999999999996 4.999999999999999 0.021435517340142915\n",
      "2.9999999999999996 5.999999999999999 0.01972979054489644\n",
      "2.9999999999999996 6.999999999999999 0.018501103943099072\n",
      "2.9999999999999996 7.999999999999998 0.01757065437462629\n",
      "2.9999999999999996 8.999999999999998 0.01683910576133555\n",
      "2.9999999999999996 9.999999999999998 0.016246855580278573\n",
      "2.9999999999999996 10.999999999999998 0.01575597416946063\n",
      "2.9999999999999996 11.999999999999998 0.015341174380499149\n",
      "2.9999999999999996 13.0 0.014984949083702254\n",
      "2.9999999999999996 14.0 0.014674792599361013\n",
      "2.9999999999999996 14.999999999999998 0.014401533556359607\n",
      "2.9999999999999996 15.999999999999996 0.014158292928655152\n",
      "2.9999999999999996 17.0 0.013939809823448666\n",
      "2.9999999999999996 18.0 0.013741992006503423\n",
      "2.9999999999999996 18.999999999999996 0.01356160836671712\n",
      "2.9999999999999996 20.0 0.013396073641211285\n",
      "3.999999999999999 1.0 0.05875095428383357\n",
      "3.999999999999999 1.9999999999999996 0.033697464981152996\n",
      "3.999999999999999 2.9999999999999996 0.025332161596104085\n",
      "3.999999999999999 3.999999999999999 0.021138982567990853\n",
      "3.999999999999999 4.999999999999999 0.018614714976158273\n",
      "3.999999999999999 5.999999999999999 0.016924954012800877\n",
      "3.999999999999999 6.999999999999999 0.01571209719328679\n",
      "3.999999999999999 7.999999999999998 0.014797342908672335\n",
      "3.999999999999999 8.999999999999998 0.014081356609815599\n",
      "3.999999999999999 9.999999999999998 0.013504537280970523\n",
      "3.999999999999999 10.999999999999998 0.013028956745920093\n",
      "3.999999999999999 11.999999999999998 0.01262932932100166\n",
      "3.999999999999999 13.0 0.012288149320544586\n",
      "3.999999999999999 14.0 0.011992912488514584\n",
      "3.999999999999999 14.999999999999998 0.011734448857468905\n",
      "3.999999999999999 15.999999999999996 0.01150588078537436\n",
      "3.999999999999999 17.0 0.011301948744109754\n",
      "3.999999999999999 18.0 0.011118561845109268\n",
      "3.999999999999999 18.999999999999996 0.01095249030425322\n",
      "3.999999999999999 20.0 0.010801150167269699\n",
      "4.999999999999999 1.0 0.05701704101653632\n",
      "4.999999999999999 1.9999999999999996 0.03197122387043285\n",
      "4.999999999999999 2.9999999999999996 0.02361354162728299\n",
      "4.999999999999999 3.999999999999999 0.01942793317947328\n",
      "4.999999999999999 4.999999999999999 0.01691118605439268\n",
      "4.999999999999999 5.999999999999999 0.015228895887308615\n",
      "4.999999999999999 6.999999999999999 0.014023460631757299\n",
      "4.999999999999999 7.999999999999998 0.013116079112123584\n",
      "4.999999999999999 8.999999999999998 0.012407417207818757\n",
      "4.999999999999999 9.999999999999998 0.011837874326937867\n",
      "4.999999999999999 10.999999999999998 0.01136952271245523\n",
      "4.999999999999999 11.999999999999998 0.010977077095311026\n",
      "4.999999999999999 13.0 0.01064303219990929\n",
      "4.999999999999999 14.0 0.010354884175821706\n",
      "4.999999999999999 14.999999999999998 0.010103463456801322\n",
      "4.999999999999999 15.999999999999996 0.00988189279765819\n",
      "4.999999999999999 17.0 0.00968491306281854\n",
      "4.999999999999999 18.0 0.00950843375202408\n",
      "4.999999999999999 18.999999999999996 0.009349225465277708\n",
      "4.999999999999999 20.0 0.00920470462829949\n",
      "5.999999999999999 1.0 0.05586014791740062\n",
      "5.999999999999999 1.9999999999999996 0.030818506146701122\n",
      "5.999999999999999 2.9999999999999996 0.022464976654102\n",
      "5.999999999999999 3.999999999999999 0.018283498495594876\n",
      "5.999999999999999 4.999999999999999 0.01577085936069379\n",
      "5.999999999999999 5.999999999999999 0.014092655045327229\n",
      "5.999999999999999 6.999999999999999 0.012891283662244351\n",
      "5.999999999999999 7.999999999999998 0.011987944193610519\n",
      "5.999999999999999 8.999999999999998 0.011283302675200585\n",
      "5.999999999999999 9.999999999999998 0.010717758670071456\n",
      "5.999999999999999 10.999999999999998 0.010253384574772742\n",
      "5.999999999999999 11.999999999999998 0.00986489527244822\n",
      "5.999999999999999 13.0 0.009534785638348533\n",
      "5.999999999999999 14.0 0.009250551971549536\n",
      "5.999999999999999 14.999999999999998 0.009003024853980347\n",
      "5.999999999999999 15.999999999999996 0.008785327187313145\n",
      "5.999999999999999 17.0 0.008592199981536361\n",
      "5.999999999999999 18.0 0.008419552880667765\n",
      "5.999999999999999 18.999999999999996 0.008264156627713863\n",
      "5.999999999999999 20.0 0.00812342779013929\n",
      "6.999999999999999 1.0 0.05503332945380218\n",
      "6.999999999999999 1.9999999999999996 0.029994208518446714\n",
      "6.999999999999999 2.9999999999999996 0.021643188327851136\n",
      "6.999999999999999 3.999999999999999 0.01746420800839234\n",
      "6.999999999999999 4.999999999999999 0.014954055319432471\n",
      "6.999999999999999 5.999999999999999 0.013278326126215953\n",
      "6.999999999999999 6.999999999999999 0.012079418610280487\n",
      "6.999999999999999 7.999999999999998 0.011178531822057474\n",
      "6.999999999999999 8.999999999999998 0.010476331865070016\n",
      "6.999999999999999 9.999999999999998 0.009913218369610234\n",
      "6.999999999999999 10.999999999999998 0.009451263798954541\n",
      "6.999999999999999 11.999999999999998 0.009065183102469761\n",
      "6.999999999999999 13.0 0.008737471221130359\n",
      "6.999999999999999 14.0 0.008455624519241334\n",
      "6.999999999999999 14.999999999999998 0.008210473643470705\n",
      "6.999999999999999 15.999999999999996 0.007995141559743768\n",
      "6.999999999999999 17.0 0.0078043693418206415\n",
      "6.999999999999999 18.0 0.00763406669701369\n",
      "6.999999999999999 18.999999999999996 0.0074810044311511845\n",
      "6.999999999999999 20.0 0.007342599174050988\n",
      "7.999999999999998 1.0 0.054412960436814435\n",
      "7.999999999999998 1.9999999999999996 0.029375477141916784\n",
      "7.999999999999998 2.9999999999999996 0.021026088106295086\n",
      "7.999999999999998 3.999999999999999 0.016848732490576498\n",
      "7.999999999999998 4.999999999999999 0.0143401980881474\n",
      "7.999999999999998 5.999999999999999 0.012666080798052039\n",
      "7.999999999999998 6.999999999999999 0.01146877883540542\n",
      "7.999999999999998 7.999999999999998 0.010569491283995426\n",
      "7.999999999999998 8.999999999999998 0.00986888428048259\n",
      "7.999999999999998 9.999999999999998 0.009307357488079137\n",
      "7.999999999999998 10.999999999999998 0.008846983402765964\n",
      "7.999999999999998 11.999999999999998 0.00846247700640044\n",
      "7.999999999999998 13.0 0.008136333272235344\n",
      "7.999999999999998 14.0 0.007856048596643395\n",
      "7.999999999999998 14.999999999999998 0.007612453658151409\n",
      "7.999999999999998 15.999999999999996 0.007398671454336169\n",
      "7.999999999999998 17.0 0.007209443090403598\n",
      "7.999999999999998 18.0 0.007040678304907803\n",
      "7.999999999999998 18.999999999999996 0.006889147934716298\n",
      "7.999999999999998 20.0 0.0067522686404852626\n",
      "8.999999999999998 1.0 0.05393029990697549\n",
      "8.999999999999998 1.9999999999999996 0.028893940167635863\n",
      "8.999999999999998 2.9999999999999996 0.020545670764467405\n",
      "8.999999999999998 3.999999999999999 0.016369430876361137\n",
      "8.999999999999998 4.999999999999999 0.013862008314860988\n",
      "8.999999999999998 5.999999999999999 0.012188998997063251\n",
      "8.999999999999998 6.999999999999999 0.010992801156030168\n",
      "8.999999999999998 7.999999999999998 0.010094613893392801\n",
      "8.999999999999998 8.999999999999998 0.009395103363551488\n",
      "8.999999999999998 9.999999999999998 0.00883466924735565\n",
      "8.999999999999998 10.999999999999998 0.00837538405832146\n",
      "8.999999999999998 11.999999999999998 0.007991962795740349\n",
      "8.999999999999998 13.0 0.007666900450198649\n",
      "8.999999999999998 14.0 0.007387693435302822\n",
      "8.999999999999998 14.999999999999998 0.007145172446714305\n",
      "8.999999999999998 15.999999999999996 0.006932460499046056\n",
      "8.999999999999998 17.0 0.006744298714442412\n",
      "8.999999999999998 18.0 0.006576596848298812\n",
      "8.999999999999998 18.999999999999996 0.006426125754227678\n",
      "8.999999999999998 20.0 0.006290302109534344\n",
      "9.999999999999998 1.0 0.05354407612727802\n",
      "9.999999999999998 1.9999999999999996 0.028508520508268173\n",
      "9.999999999999998 2.9999999999999996 0.020161052714466273\n",
      "9.999999999999998 3.999999999999999 0.015985611935216425\n",
      "9.999999999999998 4.999999999999999 0.013478985992461202\n",
      "9.999999999999998 5.999999999999999 0.011806770813641503\n",
      "9.999999999999998 6.999999999999999 0.010611364642110453\n",
      "9.999999999999998 7.999999999999998 0.009713966589736639\n",
      "9.999999999999998 8.999999999999998 0.009015242821104876\n",
      "9.999999999999998 9.999999999999998 0.00845559302719634\n",
      "9.999999999999998 10.999999999999998 0.00799708973160657\n",
      "9.999999999999998 11.999999999999998 0.007614447943654308\n",
      "9.999999999999998 13.0 0.007290162663901465\n",
      "9.999999999999998 14.0 0.007011730315878649\n",
      "9.999999999999998 14.999999999999998 0.006769981605120349\n",
      "9.999999999999998 15.999999999999996 0.006558039556061791\n",
      "9.999999999999998 17.0 0.006370645300619114\n",
      "9.999999999999998 18.0 0.00620370860390938\n",
      "9.999999999999998 18.999999999999996 0.006054000329216792\n",
      "9.999999999999998 20.0 0.005918937163468933\n",
      "10.999999999999998 1.0 0.05322801178657299\n",
      "10.999999999999998 1.9999999999999996 0.028193051393340662\n",
      "10.999999999999998 2.9999999999999996 0.019846177144205116\n",
      "10.999999999999998 3.999999999999999 0.01567132823483993\n",
      "10.999999999999998 4.999999999999999 0.013165292493487333\n",
      "10.999999999999998 5.999999999999999 0.011493665853858283\n",
      "10.999999999999998 6.999999999999999 0.010298846565546516\n",
      "10.999999999999998 7.999999999999998 0.009402033746631927\n",
      "10.999999999999998 8.999999999999998 0.008703893567881541\n",
      "10.999999999999998 9.999999999999998 0.008144825726429787\n",
      "10.999999999999998 10.999999999999998 0.007686902751996674\n",
      "10.999999999999998 11.999999999999998 0.007304839659996771\n",
      "10.999999999999998 13.0 0.0069811314570593554\n",
      "10.999999999999998 14.0 0.006703274572754096\n",
      "10.999999999999998 14.999999999999998 0.006462099718626393\n",
      "10.999999999999998 15.999999999999996 0.006250729925094381\n",
      "10.999999999999998 17.0 0.006063906330029284\n",
      "10.999999999999998 18.0 0.00589753870447556\n",
      "10.999999999999998 18.999999999999996 0.005748397917617295\n",
      "10.999999999999998 20.0 0.005613900662254554\n",
      "11.999999999999998 1.0 0.05296458146593148\n",
      "11.999999999999998 1.9999999999999996 0.027930073958700306\n",
      "11.999999999999998 2.9999999999999996 0.019583651427944528\n",
      "11.999999999999998 3.999999999999999 0.015409253073350558\n",
      "11.999999999999998 4.999999999999999 0.012903666727156248\n",
      "11.999999999999998 5.999999999999999 0.011232488327051\n",
      "11.999999999999998 6.999999999999999 0.010038116126589955\n",
      "11.999999999999998 7.999999999999998 0.00914174924779744\n",
      "11.999999999999998 8.999999999999998 0.008444053865368027\n",
      "11.999999999999998 9.999999999999998 0.007885429680346896\n",
      "11.999999999999998 10.999999999999998 0.007427949226348095\n",
      "11.999999999999998 11.999999999999998 0.007046327522663616\n",
      "11.999999999999998 13.0 0.006723059579783612\n",
      "11.999999999999998 14.0 0.006445641831122174\n",
      "11.999999999999998 14.999999999999998 0.0062049049920527575\n",
      "11.999999999999998 15.999999999999996 0.005993972096805262\n",
      "11.999999999999998 17.0 0.005807584287046472\n",
      "11.999999999999998 18.0 0.005641651337600294\n",
      "11.999999999999998 18.999999999999996 0.005492944121414204\n",
      "11.999999999999998 20.0 0.005358879335035729\n",
      "13.0 1.0 0.052741648084600946\n",
      "13.0 1.9999999999999996 0.0277074931388906\n",
      "13.0 2.9999999999999996 0.0193614223335273\n",
      "13.0 3.999999999999999 0.015187374870840676\n",
      "13.0 4.999999999999999 0.01268213858570136\n",
      "13.0 5.999999999999999 0.011011309418421168\n",
      "13.0 6.999999999999999 0.009817285625167288\n",
      "13.0 7.999999999999998 0.008921266330565817\n",
      "13.0 8.999999999999998 0.00822391771190284\n",
      "13.0 9.999999999999998 0.007665639472804859\n",
      "13.0 10.999999999999998 0.0072085041494570935\n",
      "13.0 11.999999999999998 0.006827226763712608\n",
      "13.0 13.0 0.006504302328612569\n",
      "13.0 14.0 0.006227227280112075\n",
      "13.0 14.999999999999998 0.0059868323361156285\n",
      "13.0 15.999999999999996 0.005776240533374269\n",
      "13.0 17.0 0.0055901930160660515\n",
      "13.0 18.0 0.005424599561516335\n",
      "13.0 18.999999999999996 0.005276231045164275\n",
      "13.0 20.0 0.005142504166039336\n",
      "14.0 1.0 0.05255053985172317\n",
      "14.0 1.9999999999999996 0.027516664726901084\n",
      "14.0 2.9999999999999996 0.019170873128025196\n",
      "14.0 3.999999999999999 0.014997104259223359\n",
      "14.0 4.999999999999999 0.012492145957157847\n",
      "14.0 5.999999999999999 0.010821594163925568\n",
      "14.0 6.999999999999999 0.009627847137472285\n",
      "14.0 7.999999999999998 0.008732104004196165\n",
      "14.0 8.999999999999998 0.008035030943148926\n",
      "14.0 9.999999999999998 0.007477027659716235\n",
      "14.0 10.999999999999998 0.007020166691836098\n",
      "14.0 11.999999999999998 0.006639163063107975\n",
      "14.0 13.0 0.006316511788313081\n",
      "14.0 14.0 0.006039709305140241\n",
      "14.0 14.999999999999998 0.005799586333221394\n",
      "14.0 15.999999999999996 0.005589265911028738\n",
      "14.0 17.0 0.005403489184455251\n",
      "14.0 18.0 0.005238165932535005\n",
      "14.0 18.999999999999996 0.005090067032409683\n",
      "14.0 20.0 0.004956609184805116\n",
      "14.999999999999998 1.0 0.05238489593063467\n",
      "14.999999999999998 1.9999999999999996 0.02735124660254603\n",
      "14.999999999999998 2.9999999999999996 0.019005680338845445\n",
      "14.999999999999998 3.999999999999999 0.014832136344918376\n",
      "14.999999999999998 4.999999999999999 0.012327402458680444\n",
      "14.999999999999998 5.999999999999999 0.010657074623477612\n",
      "14.999999999999998 6.999999999999999 0.009463551098500476\n",
      "14.999999999999998 7.999999999999998 0.008568031011387795\n",
      "14.999999999999998 8.999999999999998 0.007871180542427665\n",
      "14.999999999999998 9.999999999999998 0.00731339939823795\n",
      "14.999999999999998 10.999999999999998 0.0068567601179846584\n",
      "14.999999999999998 11.999999999999998 0.006475977726491094\n",
      "14.999999999999998 13.0 0.006153547239758175\n",
      "14.999999999999998 14.0 0.005876965096690312\n",
      "14.999999999999998 14.999999999999998 0.00563706201813089\n",
      "14.999999999999998 15.999999999999996 0.0054269610437594935\n",
      "14.999999999999998 17.0 0.005241403320672388\n",
      "14.999999999999998 18.0 0.005076298629102871\n",
      "14.999999999999998 18.999999999999996 0.004928417847387815\n",
      "14.999999999999998 20.0 0.004795177677444209\n",
      "15.999999999999996 1.0 0.0522399447117039\n",
      "15.999999999999996 1.9999999999999996 0.027206480218407224\n",
      "15.999999999999996 2.9999999999999996 0.018861098436063293\n",
      "15.999999999999996 3.999999999999999 0.0146877385709584\n",
      "15.999999999999996 4.999999999999999 0.012183188461906117\n",
      "15.999999999999996 5.999999999999999 0.01051304405314754\n",
      "15.999999999999996 6.999999999999999 0.009319703604765521\n",
      "15.999999999999996 7.999999999999998 0.008424366245288249\n",
      "15.999999999999996 8.999999999999998 0.007727698155890425\n",
      "15.999999999999996 9.999999999999998 0.007170099044073701\n",
      "15.999999999999996 10.999999999999998 0.006713641449885067\n",
      "15.999999999999996 11.999999999999998 0.006333040399026021\n",
      "15.999999999999996 13.0 0.006010790908372888\n",
      "15.999999999999996 14.0 0.005734389417702709\n",
      "15.999999999999996 14.999999999999998 0.00549466664872875\n",
      "15.999999999999996 15.999999999999996 0.005284745641997713\n",
      "15.999999999999996 17.0 0.005099367545470242\n",
      "15.999999999999996 18.0 0.004934442140241293\n",
      "15.999999999999996 18.999999999999996 0.004786740305506663\n",
      "15.999999999999996 20.0 0.004653678744039568\n",
      "17.0 1.0 0.05211203666432916\n",
      "17.0 1.9999999999999996 0.027078725384315477\n",
      "17.0 2.9999999999999996 0.01873349654004819\n",
      "17.0 3.999999999999999 0.014560289338472431\n",
      "17.0 4.999999999999999 0.012055891619058751\n",
      "17.0 5.999999999999999 0.010385899326703214\n",
      "17.0 6.999999999999999 0.009192710722141695\n",
      "17.0 7.999999999999998 0.008297524934553466\n",
      "17.0 8.999999999999998 0.007601008145762353\n",
      "17.0 9.999999999999998 0.007043560063917207\n",
      "17.0 10.999999999999998 0.006587253229710282\n",
      "17.0 11.999999999999998 0.006206802669486419\n",
      "17.0 13.0 0.005884703400763371\n",
      "17.0 14.0 0.005608451863957696\n",
      "17.0 14.999999999999998 0.005368878781420281\n",
      "17.0 15.999999999999996 0.005159107194333541\n",
      "17.0 17.0 0.004973878251291964\n",
      "17.0 18.0 0.00480910173402245\n",
      "17.0 18.999999999999996 0.004661548522350871\n",
      "17.0 20.0 0.004528635319678654\n",
      "18.0 1.0 0.051998332819444326\n",
      "18.0 1.9999999999999996 0.02696514995348773\n",
      "18.0 2.9999999999999996 0.018620049305800197\n",
      "18.0 3.999999999999999 0.01444697008381793\n",
      "18.0 4.999999999999999 0.011942700127501022\n",
      "18.0 5.999999999999999 0.010272835382233706\n",
      "18.0 6.999999999999999 0.009079774109238655\n",
      "18.0 7.999999999999998 0.008184715438180569\n",
      "18.0 8.999999999999998 0.007488325551367332\n",
      "18.0 9.999999999999998 0.006931004157430495\n",
      "18.0 10.999999999999998 0.00647482379754365\n",
      "18.0 11.999999999999998 0.0060944994985316255\n",
      "18.0 13.0 0.00577252627839082\n",
      "18.0 14.0 0.005496400578015083\n",
      "18.0 14.999999999999998 0.005256953120231265\n",
      "18.0 15.999999999999996 0.0050473069466964\n",
      "18.0 17.0 0.004862203206478269\n",
      "18.0 18.0 0.004697551681775743\n",
      "18.0 18.999999999999996 0.004550123252885343\n",
      "18.0 20.0 0.004417334623677825\n",
      "18.999999999999996 1.0 0.051896591574802316\n",
      "18.999999999999996 1.9999999999999996 0.026863517400626417\n",
      "18.999999999999996 2.9999999999999996 0.018518525270594666\n",
      "18.999999999999996 3.999999999999999 0.014345554392515041\n",
      "18.999999999999996 4.999999999999999 0.011841392606718466\n",
      "18.999999999999996 5.999999999999999 0.010171635858959029\n",
      "18.999999999999996 6.999999999999999 0.008978682410828257\n",
      "18.999999999999996 7.999999999999998 0.008083731392358715\n",
      "18.999999999999996 8.999999999999998 0.007387448986225186\n",
      "18.999999999999996 9.999999999999998 0.006830234901425142\n",
      "18.999999999999996 10.999999999999998 0.0063741616794971145\n",
      "18.999999999999996 11.999999999999998 0.005993944347629916\n",
      "18.999999999999996 13.0 0.005672077924182943\n",
      "18.999999999999996 14.0 0.0053960588504120945\n",
      "18.999999999999996 14.999999999999998 0.005156717849505295\n",
      "18.999999999999996 15.999999999999996 0.004947177963479717\n",
      "18.999999999999996 17.0 0.0047621803417623\n",
      "18.999999999999996 18.0 0.004597634766910137\n",
      "18.999999999999996 18.999999999999996 0.004450312119577021\n",
      "18.999999999999996 20.0 0.004317629103990025\n",
      "20.0 1.0 0.051805019427066855\n",
      "20.0 1.9999999999999996 0.026772038063639005\n",
      "20.0 2.9999999999999996 0.018427138603296832\n",
      "20.0 3.999999999999999 0.014254260254134083\n",
      "20.0 4.999999999999999 0.011750190856766714\n",
      "20.0 5.999999999999999 0.010080526357233137\n",
      "20.0 6.999999999999999 0.008887665017408484\n",
      "20.0 7.999999999999998 0.007992805967608211\n",
      "20.0 8.999999999999998 0.007296615390789276\n",
      "20.0 9.999999999999998 0.0067394929962305995\n",
      "20.0 10.999999999999998 0.006283511325751477\n",
      "20.0 11.999999999999998 0.005903385406820748\n",
      "20.0 13.0 0.005581610258077157\n",
      "20.0 14.0 0.005305682321055226\n",
      "20.0 14.999999999999998 0.005066432319220816\n",
      "20.0 15.999999999999996 0.00485698329486832\n",
      "20.0 17.0 0.004672076397701219\n",
      "20.0 18.0 0.004507621410552437\n",
      "20.0 18.999999999999996 0.004360389214350913\n",
      "20.0 20.0 0.00422779651359817\n"
     ]
    }
   ],
   "source": [
    "for i,a1 in enumerate(area_series):\n",
    "    for j,a2 in enumerate(area_series):\n",
    "        getNodes(nodes_coor)\n",
    "        getElements(E, a1, a2, a2)\n",
    "        getAnalysis(px, py)\n",
    "        output_disp[i, j] = ops.nodeDisp(4,1)\n",
    "        print(a1/sqinch, a2/sqinch, output_disp[i,j])"
   ]
  },
  {
   "cell_type": "code",
   "execution_count": 259,
   "id": "c222f16d-b5b7-436c-8dca-2ac8958cd01f",
   "metadata": {},
   "outputs": [],
   "source": [
    "area_meshgridx, area_meshgridy = np.meshgrid(area_series/sqinch, area_series/sqinch)"
   ]
  },
  {
   "cell_type": "code",
   "execution_count": 292,
   "id": "71429341-4bc1-4a66-8951-4b5c660a657f",
   "metadata": {},
   "outputs": [],
   "source": [
    "target_near_disp_pos = np.argmin(abs(output_disp - target_dispx))\n",
    "target_near_disp = output_disp.reshape(400)[target_near_disp_pos]\n",
    "a1_optimal, a2_optimal = area_meshgridy.reshape(400)[target_near_disp_pos], area_meshgridx.reshape(400)[target_near_disp_pos]"
   ]
  },
  {
   "cell_type": "code",
   "execution_count": 293,
   "id": "ff971588-fb89-4cb2-a135-db345ed39f05",
   "metadata": {},
   "outputs": [
    {
     "data": {
      "text/plain": [
       "(1.9999999999999996, 14.0)"
      ]
     },
     "execution_count": 293,
     "metadata": {},
     "output_type": "execute_result"
    }
   ],
   "source": [
    "a1_optimal, a2_optimal"
   ]
  },
  {
   "cell_type": "code",
   "execution_count": 294,
   "id": "db3ba0af-e871-4271-b4e6-16f873965a1f",
   "metadata": {},
   "outputs": [
    {
     "data": {
      "text/plain": [
       "<matplotlib.legend.Legend at 0x1544d3c8e90>"
      ]
     },
     "execution_count": 294,
     "metadata": {},
     "output_type": "execute_result"
    },
    {
     "data": {
      "image/png": "[encoded data removed]",
      "text/plain": [
       "<Figure size 640x480 with 2 Axes>"
      ]
     },
     "metadata": {},
     "output_type": "display_data"
    }
   ],
   "source": [
    "fig, ax = plt.subplots()\n",
    "contour_plot = ax.contourf(area_meshgridy, area_meshgridx, output_disp)\n",
    "ax.set_xlabel(r\"A_1\")\n",
    "ax.set_ylabel(r\"A_2\")\n",
    "colorbar = fig.colorbar(mappable=contour_plot, label=\"displacement (m)\")\n",
    "ax.plot(a1_optimal, a2_optimal, 'rx', ms=5, label=\"optimal area\")\n",
    "plt.title(\"Contour Plot of Displacement for varying A1 and A2\")\n",
    "plt.legend()"
   ]
  },
  {
   "cell_type": "markdown",
   "id": "d9588b4d-6c29-41f2-8f35-226e3dff0763",
   "metadata": {},
   "source": [
    "### Verifying if our optimal areas can give desired x_displacement in node 4"
   ]
  },
  {
   "cell_type": "code",
   "execution_count": 295,
   "id": "a84ca27c-aa94-436d-9d17-617476e2fd97",
   "metadata": {},
   "outputs": [
    {
     "data": {
      "text/plain": [
       "(1.9999999999999996, 14.0)"
      ]
     },
     "execution_count": 295,
     "metadata": {},
     "output_type": "execute_result"
    }
   ],
   "source": [
    "a1_optimal, a2_optimal"
   ]
  },
  {
   "cell_type": "code",
   "execution_count": 298,
   "id": "6c61e22a-de49-4e8c-b017-578ba77c9ecf",
   "metadata": {},
   "outputs": [
    {
     "data": {
      "text/plain": [
       "0.019864941971151975"
      ]
     },
     "execution_count": 298,
     "metadata": {},
     "output_type": "execute_result"
    }
   ],
   "source": [
    "getNodes(nodes_coor)\n",
    "getElements(E, a1_optimal*sqinch, a2_optimal*sqinch, a2_optimal*sqinch)\n",
    "getAnalysis(px, py)\n",
    "\n",
    "ops.nodeDisp(4, 1)"
   ]
  },
  {
   "cell_type": "markdown",
   "id": "24cb62b7-4506-4aba-a44e-2489f4b76bfa",
   "metadata": {},
   "source": [
    "### Thus, this displacement is close to 0.02m, which is our target displacemnet\n",
    "\n",
    "## Optimization Successful"
   ]
  },
  {
   "cell_type": "code",
   "execution_count": null,
   "id": "bb4fbb79-1838-46b0-92ae-c454cfeaaa9d",
   "metadata": {},
   "outputs": [],
   "source": []
  }
 ],
 "metadata": {
  "kernelspec": {
   "display_name": "Python 3 (ipykernel)",
   "language": "python",
   "name": "python3"
  },
  "language_info": {
   "codemirror_mode": {
    "name": "ipython",
    "version": 3
   },
   "file_extension": ".py",
   "mimetype": "text/x-python",
   "name": "python",
   "nbconvert_exporter": "python",
   "pygments_lexer": "ipython3",
   "version": "3.11.9"
  },
  "panel-cell-order": [
   "5894a0e5-a5e1-40aa-898b-4bf820ed5c75",
   "12cfe5c4-115d-455f-8059-032dd6f57cee",
   "5b678a16-75d3-4d57-a5ff-45992fe60e4b",
   "e7218ec8-d54b-4324-907b-414ead273e85",
   "cb8e51f7-f745-4e44-8348-c800f606e1f7",
   "64190cf3-3716-4640-bdd7-52500ecb8668",
   "ab7e24e2-c356-4f0f-b937-186e9f0319ac"
  ],
  "widgets": {
   "application/vnd.jupyter.widget-state+json": {
    "state": {},
    "version_major": 2,
    "version_minor": 0
   }
  }
 },
 "nbformat": 4,
 "nbformat_minor": 5
}
