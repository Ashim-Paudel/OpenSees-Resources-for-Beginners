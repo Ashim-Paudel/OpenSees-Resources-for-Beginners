{
 "cells": [
  {
   "cell_type": "markdown",
   "id": "e028eeb8-2271-4fb4-8aa1-e7885b229cfa",
   "metadata": {},
   "source": [
    "Original opensees documentation link: https://opensees.berkeley.edu/wiki/index.php/Moment_Curvature_Example\n",
    "\n",
    "moment-curvature analysis of a rectangular reinforced concrete section. In this example a Zero Length element with the fiber discretization of the cross section is used. \n",
    "<img src=\"https://opensees.berkeley.edu/wiki/images/5/5f/MomentCurvature.png\"></img>\n"
   ]
  },
  {
   "cell_type": "markdown",
   "id": "d46b1fda-7616-4fee-9627-2c7f0c50c58c",
   "metadata": {},
   "source": [
    "**Video regarding moment-curvature curve**: https://www.youtube.com/watch?v=FMXGwRN50dw"
   ]
  },
  {
   "cell_type": "code",
   "execution_count": 1,
   "id": "d95698ee-9cbc-4cc1-ad80-be8ec4972702",
   "metadata": {},
   "outputs": [],
   "source": [
    "import openseespy.opensees as ops\n",
    "import opsvis as ovs\n",
    "import numpy as np\n",
    "import matplotlib.pyplot as plt\n"
   ]
  },
  {
   "cell_type": "markdown",
   "id": "ff8a3427-cb93-4a63-8e2f-c8403e2574cd",
   "metadata": {},
   "source": [
    "## Section Definition\n",
    "\n",
    "<img src=\"https://opensees.berkeley.edu/wiki/images/6/63/MomentCurvatureSection.png\" align=\"left\"></img>\n",
    "<img src=\"https://opensees.berkeley.edu/wiki/images/0/08/MomentCurvatureSectionDiscritization.png\" align=\"right\"></img>\n"
   ]
  },
  {
   "cell_type": "markdown",
   "id": "01d5e311-a7c6-43a9-a1bf-eeef2de5fbf7",
   "metadata": {},
   "source": [
    "## section variables"
   ]
  },
  {
   "cell_type": "code",
   "execution_count": 2,
   "id": "ef1b26cc-deea-4923-8875-5322c56e182e",
   "metadata": {},
   "outputs": [],
   "source": [
    "#section parameters\n",
    "d = 24 #inch\n",
    "w = 15\n",
    "cov = 1.5 #cover of unconfined concrete in inches\n",
    "As  =  0.60    # area of no. 7 bars\n",
    "\n",
    "\n",
    "concrete_coors_ext = [-d/2, w/2, -d/2, -w/2, d/2, -w/2,  d/2, w/2]\n",
    "\n",
    "rebars_z = np.array([w/2-cov, 0., -w/2+cov])\n",
    "rebars_y = np.array([d/2-cov, 0., -d/2+cov])\n",
    "\n",
    "rebars_coors = []\n",
    "for i,z in enumerate(rebars_z):\n",
    "    for j,y in enumerate(rebars_y):\n",
    "        if (z,y)!=(0,0):\n",
    "            rebars_coors.append((z,y))\n"
   ]
  },
  {
   "cell_type": "markdown",
   "id": "a3305ec1-59e4-4945-9dc6-f0c42ce09f01",
   "metadata": {},
   "source": [
    "## Material properties"
   ]
  },
  {
   "cell_type": "code",
   "execution_count": 3,
   "id": "166b7028-aaff-4ba6-a48f-325edecf470b",
   "metadata": {},
   "outputs": [],
   "source": [
    "#material properties\n",
    "#concrete\n",
    "    #core concrete confined\n",
    "core_conc = 1 #tag\n",
    "fc_c = -6.0\n",
    "ec0_c = -0.004\n",
    "fcu_c = -5.0\n",
    "ecu_c = -0.014\n",
    "\n",
    "    #cover concrete unconfined\n",
    "cover_conc = 2 #tag\n",
    "fc_u = -5.0\n",
    "ec0_u = -0.002\n",
    "fcu_u = -0.0\n",
    "ecu_u = -0.006\n",
    "\n",
    "# STEEL\n",
    "# Reinforcing steel \n",
    "steel = 3 #tag\n",
    "fy =  60.0   # Yield stress\n",
    "E =  30000.0  # Young's modulus\n",
    "b = 0.01"
   ]
  },
  {
   "cell_type": "code",
   "execution_count": 4,
   "id": "86194132-8766-4829-bb84-820718b4394b",
   "metadata": {},
   "outputs": [],
   "source": [
    "def getSection(plotFiberSection = True):\n",
    "    ops.wipe()\n",
    "    ops.model(\"BasicBuilder\", '-ndm', 2, '-ndf', 3)\n",
    "                                        #tag   f'c        ec0   f'cu   ecu\n",
    "    ops.uniaxialMaterial('Concrete01', core_conc, fc_c, ec0_c, fcu_c, ecu_c)\n",
    "    ops.uniaxialMaterial('Concrete01', cover_conc, fc_u, ec0_u, fcu_u, ecu_u)\n",
    "    ops.uniaxialMaterial('Steel01', steel, fy, E, b)\n",
    "\n",
    "    ops.section('Fiber', 1)\n",
    "    # Create the concrete core fibers\n",
    "    #patch('rect', matTag, numSubdivY, numSubdivZ, *crdsI, *crdsJ)\n",
    "    numSubdivY = 10\n",
    "    numSubdivZ = 1\n",
    "    ops.patch('rect', core_conc, numSubdivY, numSubdivZ, *[d/2-cov, w/2-cov, -d/2+cov, -w/2+cov]) #core\n",
    "\n",
    "    #cover concrete\n",
    "    #+y, +y, +z, -z\n",
    "    ops.patch('rect', cover_conc, 2, 1,*[d/2, w/2-cov, d/2-cov, -w/2+cov]) #top cover\n",
    "    ops.patch('rect', cover_conc, 2, 1, *[-d/2+cov, w/2-cov, -d/2, -w/2+cov]) #bot cover\n",
    "    ops.patch('rect', cover_conc, 10, 1, *[d/2 , -w/2+cov, -d/2, -w/2]) #right cover\n",
    "    ops.patch('rect', cover_conc, 10, 1, *[d/2, w/2, -d/2, w/2-cov]) #left cover\n",
    "\n",
    "    #layer('straight', matTag, numFiber, areaFiber, *start, *end)\n",
    "    #top bottom mid\n",
    "    ops.layer('straight', steel, 3, As, *[d/2-cov, w/2-cov], *[ d/2-cov, -w/2+cov])\n",
    "    ops.layer('straight', steel, 3, As, *[-d/2+cov, w/2-cov,], *[-d/2+cov, -w/2+cov])\n",
    "    ops.layer('straight', steel, 2, As, *[0, w/2-cov], *[0, -w/2+cov])    \n",
    "\n",
    "    if plotFiberSection:\n",
    "        fib_sec_list = [['section', 'Fiber', 1],\n",
    "                        ['patch', 'rect', core_conc, numSubdivY, numSubdivZ, *[d/2-cov, w/2-cov, -d/2+cov, -w/2+cov]], #core\n",
    "                        ['patch', 'rect', cover_conc, 2, 1, *[d/2, w/2-cov, d/2-cov, -w/2+cov]], #top\n",
    "                        ['patch', 'rect', cover_conc, 2, 1, *[-d/2+cov, w/2-cov, -d/2, -w/2+cov]], #bot\n",
    "                        ['patch', 'rect', cover_conc, 10, 1, *[d/2 , -w/2+cov, -d/2, -w/2]], #right cover\n",
    "                        ['patch', 'rect', cover_conc, 10, 1, *[d/2, w/2, -d/2, w/2-cov]], #left cover\n",
    "                            ['layer', 'straight', steel, 3, As, *[d/2-cov, w/2-cov], *[ d/2-cov, -w/2+cov]],\n",
    "                            ['layer', 'straight', steel, 3, As, *[-d/2+cov, w/2-cov,], *[-d/2+cov, -w/2+cov]],\n",
    "                            ['layer', 'straight', steel, 2, As, *[0, w/2-cov], *[0, -w/2+cov]],\n",
    "                       ]\n",
    "        matcolor = ['lightgrey', 'lightgrey', 'gold', 'w', 'w', 'w']\n",
    "        ovs.plot_fiber_section(fib_sec_list, matcolor=matcolor)\n",
    "        plt.axis('equal')"
   ]
  },
  {
   "cell_type": "code",
   "execution_count": 5,
   "id": "7ca95a8c-8aac-4f38-a993-969f820e024a",
   "metadata": {},
   "outputs": [
    {
     "data": {
      "image/png": "[encoded data removed]",
      "text/plain": [
       "<Figure size 640x480 with 1 Axes>"
      ]
     },
     "metadata": {},
     "output_type": "display_data"
    }
   ],
   "source": [
    "getSection(plotFiberSection = True)"
   ]
  },
  {
   "cell_type": "code",
   "execution_count": 28,
   "id": "8b02a4f2-4634-4444-9c0b-b07e93d951d0",
   "metadata": {},
   "outputs": [],
   "source": [
    "def MomentCurvature(secTag, axialLoad, maxK, numIncr = 1000):\n",
    "    #we will use zero length element to model the section for moment curvature analysis\n",
    "    #so define two nodes at 0, 0\n",
    "    ops.node(1, 0, 0)\n",
    "    ops.node(2, 0, 0)\n",
    "    \n",
    "    # Fix all degrees of freedom except axial and bending\n",
    "    ops.fix(1, 1, 1, 1)\n",
    "    ops.fix(2, 0, 1, 0)\n",
    "    \n",
    "    #define element\n",
    "    #element('zeroLength', eleTag, *eleNodes, '-mat', *matTags, '-dir', *dirs, <'-doRayleigh', rFlag=0>, <'-orient', *vecx, *vecyp>)\n",
    "    ops.element('zeroLengthSection', 1, *[1,2], secTag)\n",
    "    \n",
    "    # Create recorder\n",
    "    ops.recorder('Node', '-file', f'section{secTag}.txt', '-time', '-closeOnWrite',  '-node', 2, '-dof ', 3, 'disp')\n",
    "\n",
    "    #for curvature analysis\n",
    "    conTS = 1\n",
    "    linTS = 2\n",
    "    ops.timeSeries('Constant', conTS)\n",
    "    \n",
    "    ops.pattern('Plain', 1, conTS)\n",
    "    ops.load(2, *[axialLoad, 0, 0])\n",
    "    \n",
    "    #define recorders:\n",
    "\t# Define analysis parameters\n",
    "    ops.integrator('LoadControl', 0.0)\n",
    "    ops.system('SparseGeneral', '-piv')\t# Overkill, but may need the pivoting!\n",
    "    ops.test('NormUnbalance', 1.0e-9, 10)\n",
    "    ops.numberer ('Plain')\n",
    "    ops.constraints ('Plain')\n",
    "    ops.algorithm ('Newton')\n",
    "    ops.analysis ('Static')\n",
    "    \n",
    "    # Do one analysis for constant axial load\n",
    "    ops.analyze(1)\n",
    "    \n",
    "    #define refrence moment\n",
    "    ops.timeSeries('Linear', linTS)\n",
    "    ops.pattern('Plain', 2, linTS)\n",
    "    ops.load(2, *[0, 0, 1.0])\n",
    "    \n",
    "    #compute curvature increment steps\n",
    "    dk = maxK / numIncr\n",
    "    # Use displacement control at node 2 for section analysis\n",
    "    #integrator('DisplacementControl', nodeTag, dof, incr, numIter=1, dUmin=incr, dUmax=incr)\n",
    "    ops.integrator('DisplacementControl', 2, 3, dk)\n",
    "\n",
    "    print(ops.nodeUnbalance(2, 3))\n",
    "    ops.analyze(numIncr)    \n",
    "    print(ops.nodeUnbalance(2, 3))"
   ]
  },
  {
   "cell_type": "markdown",
   "id": "724fa6e4-7c3e-483b-9ecc-15b025087258",
   "metadata": {},
   "source": [
    "# Analysis"
   ]
  },
  {
   "cell_type": "code",
   "execution_count": 29,
   "id": "e141eb4d-6bbb-4dce-8d1e-7b9767ccc88f",
   "metadata": {},
   "outputs": [
    {
     "data": {
      "text/plain": [
       "0.000126984126984127"
      ]
     },
     "execution_count": 29,
     "metadata": {},
     "output_type": "execute_result"
    }
   ],
   "source": [
    "# Estimate yield curvature\n",
    "# (Assuming no axial load and only top and bottom steel)\n",
    "# d -- from cover to rebar\n",
    "dcr = d-cov\n",
    "# steel yield strain\n",
    "epsy = fy/E\n",
    "Ky = epsy/(0.7*dcr) #ky is estimated yield curvature\n",
    "Ky"
   ]
  },
  {
   "cell_type": "code",
   "execution_count": 30,
   "id": "b17ad11e-327f-46ee-974b-2b967ae0b8d9",
   "metadata": {},
   "outputs": [],
   "source": [
    "# Set axial load \n",
    "P = -180.0\n",
    "\n",
    "# Target ductility for analysis\n",
    "mu = 15.0\n",
    "\n",
    "# Number of analysis increments\n",
    "numIncr = 100 "
   ]
  },
  {
   "cell_type": "code",
   "execution_count": 31,
   "id": "99a8e898-852a-4db5-b5ef-daa8feffff2f",
   "metadata": {},
   "outputs": [
    {
     "name": "stdout",
     "output_type": "stream",
     "text": [
      "0.0\n",
      "4779.3433325872165\n"
     ]
    },
    {
     "data": {
      "image/png": "[encoded data removed]",
      "text/plain": [
       "<Figure size 640x480 with 1 Axes>"
      ]
     },
     "metadata": {},
     "output_type": "display_data"
    }
   ],
   "source": [
    "getSection()\n",
    "# Call the section analysis procedure\n",
    "MomentCurvature(1, P, Ky*mu, numIncr)"
   ]
  },
  {
   "cell_type": "code",
   "execution_count": 34,
   "id": "f311069f-4ef5-4b33-a034-a36729555ffc",
   "metadata": {},
   "outputs": [
    {
     "name": "stdout",
     "output_type": "stream",
     "text": [
      "Passed!\n"
     ]
    }
   ],
   "source": [
    "u = ops.nodeDisp(2,3)\n",
    "if abs(u-0.00190476190476190541)<1e-12:\n",
    "    print(\"Passed!\")\n",
    "else:\n",
    "    print(\"Failed!\")"
   ]
  },
  {
   "cell_type": "code",
   "execution_count": null,
   "id": "d7bdacd9-9e54-47f9-acc4-50e475c00bf6",
   "metadata": {},
   "outputs": [],
   "source": []
  }
 ],
 "metadata": {
  "kernelspec": {
   "display_name": "Python 3 (ipykernel)",
   "language": "python",
   "name": "python3"
  },
  "language_info": {
   "codemirror_mode": {
    "name": "ipython",
    "version": 3
   },
   "file_extension": ".py",
   "mimetype": "text/x-python",
   "name": "python",
   "nbconvert_exporter": "python",
   "pygments_lexer": "ipython3",
   "version": "3.11.9"
  },
  "widgets": {
   "application/vnd.jupyter.widget-state+json": {
    "state": {},
    "version_major": 2,
    "version_minor": 0
   }
  }
 },
 "nbformat": 4,
 "nbformat_minor": 5
}
