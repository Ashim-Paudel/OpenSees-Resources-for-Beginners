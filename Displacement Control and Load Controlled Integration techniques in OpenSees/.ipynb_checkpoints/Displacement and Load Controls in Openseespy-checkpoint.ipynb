{
 "cells": [
  {
   "cell_type": "markdown",
   "id": "2fba2a9a-3309-4e1b-8cfc-caa1171eac85",
   "metadata": {},
   "source": [
    "1. Load Control with Forces\n",
    "2. Load Control with Displacement\n",
    "3. Displacement Control with Forces"
   ]
  },
  {
   "cell_type": "code",
   "execution_count": null,
   "id": "9c25c038-16b2-4044-8c80-b4b8db876311",
   "metadata": {},
   "outputs": [],
   "source": []
  }
 ],
 "metadata": {
  "kernelspec": {
   "display_name": "Python 3 (ipykernel)",
   "language": "python",
   "name": "python3"
  },
  "language_info": {
   "codemirror_mode": {
    "name": "ipython",
    "version": 3
   },
   "file_extension": ".py",
   "mimetype": "text/x-python",
   "name": "python",
   "nbconvert_exporter": "python",
   "pygments_lexer": "ipython3",
   "version": "3.11.9"
  },
  "widgets": {
   "application/vnd.jupyter.widget-state+json": {
    "state": {},
    "version_major": 2,
    "version_minor": 0
   }
  }
 },
 "nbformat": 4,
 "nbformat_minor": 5
}
