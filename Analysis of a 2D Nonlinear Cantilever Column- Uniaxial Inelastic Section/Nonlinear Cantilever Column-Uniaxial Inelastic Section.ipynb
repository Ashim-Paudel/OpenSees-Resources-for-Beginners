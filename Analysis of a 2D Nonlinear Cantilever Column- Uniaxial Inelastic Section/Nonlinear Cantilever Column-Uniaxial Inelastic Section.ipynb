{
 "cells": [
  {
   "attachments": {},
   "cell_type": "markdown",
   "id": "57e6fe7d-3d5c-4a16-8c68-443655a29f5f",
   "metadata": {},
   "source": [
    "Link to original opensees website for the problem:\n",
    "https://opensees.berkeley.edu/wiki/index.php/OpenSees_Example_2b._Nonlinear_Cantilever_Column:_Uniaxial_Inelastic_Section\n",
    "\n",
    "**We will be performing 3 different analysis**\n",
    "- Gravity Analysis\n",
    "- Monotonic Pushover\n",
    "- Time History Analysis\n",
    "\n",
    "**------------Static Pushover-------**\n",
    "<img src=\"https://opensees.berkeley.edu/wiki/images/5/58/Example2b_Push.GIF\" align=\"left\"></img>\n",
    "**-------Dynamic Earthquake---------**\n",
    "<img src=\"https://opensees.berkeley.edu/wiki/images/5/5b/Example2b_EQ.GIF\" align=\"right\"></img>"
   ]
  },
  {
   "cell_type": "markdown",
   "id": "baaa37cb-ae56-4b37-85eb-3e8ec4d6c79f",
   "metadata": {},
   "source": [
    "## Units conversion"
   ]
  },
  {
   "cell_type": "code",
   "execution_count": 10,
   "id": "c543473b-2b7b-4b86-8633-1b6b47378f2e",
   "metadata": {},
   "outputs": [],
   "source": [
    "#length conversion\n",
    "m = 1.0\n",
    "inch = m/39.37\n",
    "ft = 12*inch \n",
    "\n",
    "#area conversion\n",
    "sqinch = inch**2\n",
    "\n",
    "#ksi to pa\n",
    "pa = 1.0\n",
    "kpa = 1000*pa\n",
    "ksi = 6.89*1000*kpa\n",
    "\n",
    "#kip to kN\n",
    "N = 1.0\n",
    "kN = 1000 * N\n",
    "kip = 4.45 * kN\n",
    "\n",
    "# pound to kg\n",
    "kg = 1 \n",
    "pound = 0.453592 * kg\n"
   ]
  },
  {
   "cell_type": "code",
   "execution_count": 11,
   "id": "c2312e80-33e7-49c1-b4bb-9336b63c7119",
   "metadata": {},
   "outputs": [
    {
     "data": {
      "text/plain": [
       "907237.5127420998"
      ]
     },
     "execution_count": 11,
     "metadata": {},
     "output_type": "execute_result"
    }
   ],
   "source": [
    "2000 * kip / 9.81"
   ]
  },
  {
   "cell_type": "markdown",
   "id": "e74de2b7-3454-4f61-ae56-9352bb2ae7fc",
   "metadata": {},
   "source": [
    "## Model Variables"
   ]
  },
  {
   "cell_type": "code",
   "execution_count": 12,
   "id": "433a5739-af58-4728-b180-3082e65c399a",
   "metadata": {},
   "outputs": [],
   "source": [
    "h = 432 #inch #col height\n",
    "\n",
    "#section of column\n",
    "b = 60.0 # inch #width of section\n",
    "d = 60.0 #inch #depth of section\n",
    "\n",
    "Acol = b*d*1000  #section area\n",
    "Iz = 1.0/12.0*b*d**3  #moi of section\n",
    "E = 3225  #*ksi  #modulus of elasticity\n",
    "\n",
    "#weight\n",
    "w = 2000 #Kip\n",
    "Pcol = w #load applied on column (gravity load)\n",
    "mass = w/386.4 #nodal mass\n",
    "\n",
    "#analysis names\n",
    "gravityAnalysis = 'GravityAnalysis'\n",
    "pushoverAnalysis = 'PushoverAnalysis'\n",
    "timeHistory = 'TimeHistoryAnalysis'"
   ]
  },
  {
   "cell_type": "markdown",
   "id": "ffce83e8-6897-4bc7-bcac-0f6cbaae4b20",
   "metadata": {},
   "source": [
    "## Model Definition"
   ]
  },
  {
   "cell_type": "code",
   "execution_count": 13,
   "id": "42e44aa6-6a3a-4da0-a966-ac4ee14498bd",
   "metadata": {},
   "outputs": [],
   "source": [
    "import openseespy.opensees as ops\n",
    "import opsvis as ovs\n",
    "import numpy as np\n",
    "import matplotlib.pyplot as plt"
   ]
  },
  {
   "cell_type": "code",
   "execution_count": 19,
   "id": "16612a82-a0ca-4f9e-bb9e-98fc1102ac9c",
   "metadata": {},
   "outputs": [],
   "source": [
    "def getModel():\n",
    "    ops.wipe()\n",
    "    ops.model('BasicBuilder', '-ndm', 2, '-ndf', 3)\n",
    "\n",
    "    ops.node(1, 0, 0)\n",
    "    ops.node(2, 0, h)\n",
    "\n",
    "    ops.fix(1, 1, 1, 1)\n",
    "    \n",
    "\n",
    "    #Mass is assigned at node 2 using mass command. \n",
    "    #Since transient analysis is going to be performed for one component of ground motion (horizontal component - x direction),\n",
    "    #the mass is to be assigned in x direction. \n",
    "    #The mass is defined as Weight/g=2000/386=5.18. The vertical and rotational mass are set to zero.\n",
    "    ops.mass(2, *[mass, 1e-9, 0])\n",
    "\n",
    "    #Section and element definition\n",
    "    ColMatTagFlex = 2 # tag number to column flexural behaviour\n",
    "    ColMatTagAxial = 3 #tag number to column axial behaviour\n",
    "    ColSecTag = 1 #tag number to column section tag\n",
    "    BeamSecTag = 2 #tag number to beam section tag\n",
    "\n",
    "    #material parameters\n",
    "    fc = -4 #concrete compressive strength\n",
    "    Ec = 57 * np.sqrt(-fc * 1000) #concrete elastic modulus\n",
    "\n",
    "    #column section\n",
    "    #calculated stiffness parameters\n",
    "    EICol = Ec * Iz  #EI for moment curvature relationship\n",
    "    EACol = Ec * Acol #EA for axial force strain relationship\n",
    "    MyCol = 130000 #yield moment\n",
    "    PhiYCol = 0.65e-4 #yeild curvature\n",
    "    EIColCrack = MyCol/PhiYCol #cracked section inertia\n",
    "    b = 0.01 #strain hardening ratio (ratio between post-yield tangent and initial elastic tangent)\n",
    "\n",
    "    ops.uniaxialMaterial('Steel01', ColMatTagFlex, MyCol, EIColCrack, b)\n",
    "    ops.uniaxialMaterial('Elastic', ColMatTagAxial, EACol)\n",
    "    #section('Aggregator', secTag, *mats, '-section', sectionTag)\n",
    "    ops.section('Aggregator', ColSecTag, ColMatTagAxial, 'P', ColMatTagFlex, 'Mz')\n",
    "\n",
    "    \n",
    "    linTransf = 1\n",
    "    pDelta = 2\n",
    "    ops.geomTransf('Linear', linTransf)\n",
    "\n",
    "    numIntgrPts = 5\n",
    "    #element('nonlinearBeamColumn', eleTag, *eleNodes, numIntgrPts, secTag, transfTag, '-iter', maxIter=10, tol=1e-12, '-mass', mass=0.0, '-integration', intType)\n",
    "    ops.element('nonlinearBeamColumn', 1, *[1,2], numIntgrPts, ColSecTag, linTransf)"
   ]
  },
  {
   "cell_type": "code",
   "execution_count": 20,
   "id": "aeab985a-425f-4e7a-937b-47fc3741a3b3",
   "metadata": {},
   "outputs": [],
   "source": [
    "def getRecorders(AnalysisName):\n",
    "    numIntgrPts = 5\n",
    "    ops.recorder(\"Node\", '-file', f\"Outputs/{AnalysisName}/DispFree.txt\", '-time', '-closeOnWrite', '-node', 2,'-dof', *[1,2,3], 'disp')\n",
    "    ops.recorder(\"Node\", '-file', f\"Outputs/{AnalysisName}/DispSupport.txt\", '-time', '-closeOnWrite', '-node', 1,'-dof', *[1,2,3], 'disp')\n",
    "    ops.recorder(\"Node\", '-file', f\"Outputs/{AnalysisName}/ReactionsSupport.txt\", '-time', '-closeOnWrite', '-node', 1,'-dof', *[1,2,3], 'reaction')\n",
    "\n",
    "    #ops.recorder('Drift', '-file', \"Outputs/Drifts.txt\", '-time', '-closeOnWrite', '-inode', 1, '-jnode', 2, '-dof', 1, '-perpDirn', 2)\n",
    "\n",
    "    #recorder Element -file Data/FCol.out -time -ele 1 force\n",
    "    ops.recorder('Element', '-file', f'Outputs/{AnalysisName}/ForcesColumn.txt', '-time', '-closeOnWrite', '-ele', 2, 'globalForce')\n",
    "    ops.recorder('Element', '-file', f'Outputs/{AnalysisName}/ForceColSec1.txt', '-time', '-closeOnWrite', '-ele', 1, 'section', 1, 'force')\t\t\t\t# Column section forces, axial and moment, node i\n",
    "    ops.recorder('Element', '-file', f'Outputs/{AnalysisName}/DefoColSec1.txt', '-time', '-closeOnWrite', '-ele', 1, 'section', 1, 'deformation')\t\t\t\t# section deformations, axial and curvature, node i\n",
    "    ops.recorder('Element', '-file', f'Outputs/{AnalysisName}/ForceColSec{numIntgrPts}.txt', '-time', '-closeOnWrite', '-ele', 1, 'section', numIntgrPts, 'force')\t# section forces, axial and moment, node j\n",
    "    ops.recorder('Element', '-file', f'Outputs/{AnalysisName}/DefoColSec{numIntgrPts}.txt', '-time', '-closeOnWrite', '-ele', 1, 'section', numIntgrPts, 'deformation')\t# section deformations, axial and curvature, node j\n"
   ]
  },
  {
   "cell_type": "markdown",
   "id": "a09079a9-fdaa-4059-84d4-44db94ffd011",
   "metadata": {},
   "source": [
    "Since the analysis is static and specific load (2000 kips) is to be applied, load control integrator will be used in this example. The load factor increment ($\\lambda$) is set to 0.1 since the full load of 2000 kips is to be applied in 10 analysis steps. For the nth step of analysis the load factor is $\\lambda_n = \\lambda_{n-1} + \\lambda$"
   ]
  },
  {
   "cell_type": "code",
   "execution_count": 21,
   "id": "4d4c0e2d-fec5-4307-a75c-679b0f45700e",
   "metadata": {},
   "outputs": [],
   "source": [
    "def runGravityAnalysis():\n",
    "    tol = 1e-8\n",
    "    NstepGravity = 10\n",
    "    DGravity = 1./NstepGravity\n",
    "    linTS = 1\n",
    "    ops.timeSeries(\"Linear\", linTS) #tag 1 for linear time series\n",
    "\n",
    "                        #pattern tag #ts tag\n",
    "    ops.pattern(\"Plain\", 1, linTS)\n",
    "    ops.load(2, *[0, -Pcol, 0])\n",
    "\n",
    "    ops.constraints(\"Plain\")\n",
    "    ops.numberer(\"Plain\")\n",
    "    ops.system(\"BandGeneral\")\n",
    "    ops.test(\"NormDispIncr\", tol, 6)\n",
    "    ops.algorithm(\"Newton\")\n",
    "    ops.integrator(\"LoadControl\", DGravity)\n",
    "    ops.analysis(\"Static\")\n",
    "\n",
    "    ops.record()\n",
    "    result = ops.analyze(NstepGravity) #10 steps of analysis to reach load of py\n",
    "    return result"
   ]
  },
  {
   "cell_type": "code",
   "execution_count": 27,
   "id": "a3e440df-e470-4937-9121-de5d2ddb257a",
   "metadata": {},
   "outputs": [],
   "source": [
    "def runPushoverAnalysis():\n",
    "    ops.loadConst('-time', 0.0)\n",
    "    DcontrolNode = 2\n",
    "    DcontrolDof = 1\n",
    "    Dmax = 0.05*h\n",
    "    Dincr = 0.01*h\n",
    "\n",
    "    HLoad = w\n",
    "\n",
    "    linTS = 1\n",
    "                        #pattern tag #ts tag\n",
    "    ops.pattern(\"Plain\", 200, linTS)\n",
    "    ops.load(2, *[HLoad, 0.0, 0.])\n",
    "\n",
    "    tol = 1.e-8\n",
    "    maxNumIter = 6\n",
    "    \n",
    "    ops.constraints(\"Plain\")\n",
    "    ops.numberer(\"Plain\")\n",
    "    ops.system(\"BandGeneral\")\n",
    "    ops.test(\"EnergyIncr\", tol, maxNumIter, 0)\n",
    "    ops.algorithm(\"Newton\")\n",
    "    ops.integrator(\"DisplacementControl\", DcontrolNode, DcontrolDof, Dincr)\n",
    "    ops.analysis(\"Static\")\n",
    "\n",
    "    ops.record()\n",
    "    Nstep = int(Dmax/Dincr)\n",
    "    result = ops.analyze(Nstep) #10 steps of analysis to reach load of py\n",
    "    return result"
   ]
  },
  {
   "cell_type": "code",
   "execution_count": 33,
   "id": "ab711fe1-2396-49ca-9b9b-5acafc144766",
   "metadata": {},
   "outputs": [
    {
     "data": {
      "text/plain": [
       "0"
      ]
     },
     "execution_count": 33,
     "metadata": {},
     "output_type": "execute_result"
    }
   ],
   "source": [
    "getModel()\n",
    "getRecorders(gravityAnalysis)\n",
    "runGravityAnalysis()"
   ]
  },
  {
   "cell_type": "code",
   "execution_count": 34,
   "id": "abcf7e1a-f4ef-4eeb-a631-7368fe7a0fbd",
   "metadata": {},
   "outputs": [
    {
     "data": {
      "text/plain": [
       "Text(0.5, 1.0, 'Model with deformation')"
      ]
     },
     "execution_count": 34,
     "metadata": {},
     "output_type": "execute_result"
    },
    {
     "data": {
      "image/png": "[encoded data removed]",
      "text/plain": [
       "<Figure size 1000x400 with 2 Axes>"
      ]
     },
     "metadata": {},
     "output_type": "display_data"
    }
   ],
   "source": [
    "fig, ax = plt.subplots(1, 2 , figsize=(10,4))\n",
    "ovs.plot_loads_2d(ax=ax[0])\n",
    "ovs.plot_defo(ax=ax[1])\n",
    "ax[0].set_title(\"Model with loads\")\n",
    "ax[1].set_title(\"Model with deformation\")"
   ]
  },
  {
   "cell_type": "markdown",
   "id": "1fc9a394-60c2-4847-8535-267457dbef29",
   "metadata": {},
   "source": [
    "## Pushover Analysis"
   ]
  },
  {
   "cell_type": "code",
   "execution_count": 35,
   "id": "dd3498f5-c19c-4e65-a494-77a1ee0b9cac",
   "metadata": {},
   "outputs": [
    {
     "name": "stderr",
     "output_type": "stream",
     "text": [
      "WARNING can't set handler after analysis is created\n"
     ]
    },
    {
     "data": {
      "text/plain": [
       "0"
      ]
     },
     "execution_count": 35,
     "metadata": {},
     "output_type": "execute_result"
    }
   ],
   "source": [
    "getModel()\n",
    "getRecorders(pushoverAnalysis)\n",
    "runGravityAnalysis()\n",
    "runPushoverAnalysis()"
   ]
  },
  {
   "cell_type": "code",
   "execution_count": 36,
   "id": "c17c449a-b161-4f70-8931-af35a8233391",
   "metadata": {},
   "outputs": [
    {
     "data": {
      "text/plain": [
       "Text(0.5, 1.0, 'Model with deformation')"
      ]
     },
     "execution_count": 36,
     "metadata": {},
     "output_type": "execute_result"
    },
    {
     "data": {
      "image/png": "[encoded data removed]",
      "text/plain": [
       "<Figure size 1000x400 with 2 Axes>"
      ]
     },
     "metadata": {},
     "output_type": "display_data"
    }
   ],
   "source": [
    "fig, ax = plt.subplots(1, 2 , figsize=(10,4))\n",
    "ovs.plot_loads_2d(ax=ax[0])\n",
    "ovs.plot_defo(ax=ax[1])\n",
    "ax[0].set_title(\"Model with loads\")\n",
    "ax[1].set_title(\"Model with deformation\")"
   ]
  },
  {
   "cell_type": "code",
   "execution_count": null,
   "id": "73eb1dfb-0198-4d1f-9e11-8c09778b9b8e",
   "metadata": {},
   "outputs": [],
   "source": []
  }
 ],
 "metadata": {
  "kernelspec": {
   "display_name": "Python 3 (ipykernel)",
   "language": "python",
   "name": "python3"
  },
  "language_info": {
   "codemirror_mode": {
    "name": "ipython",
    "version": 3
   },
   "file_extension": ".py",
   "mimetype": "text/x-python",
   "name": "python",
   "nbconvert_exporter": "python",
   "pygments_lexer": "ipython3",
   "version": "3.11.9"
  },
  "widgets": {
   "application/vnd.jupyter.widget-state+json": {
    "state": {},
    "version_major": 2,
    "version_minor": 0
   }
  }
 },
 "nbformat": 4,
 "nbformat_minor": 5
}
